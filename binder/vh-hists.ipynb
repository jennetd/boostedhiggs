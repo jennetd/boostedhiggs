{
 "cells": [
  {
   "cell_type": "code",
   "execution_count": 1,
   "metadata": {},
   "outputs": [],
   "source": [
    "import os, subprocess\n",
    "import json\n",
    "import uproot3\n",
    "import awkward as ak\n",
    "import numpy as np\n",
    "from coffea import processor, util, hist\n",
    "\n",
    "from plotter import *"
   ]
  },
  {
   "cell_type": "code",
   "execution_count": 2,
   "metadata": {},
   "outputs": [],
   "source": [
    "lumis = {}\n",
    "lumis['2016'] = 35.9\n",
    "lumis['2017'] = 41.5\n",
    "lumis['2018'] = 59.9\n",
    "\n",
    "with open('xsec.json') as f:\n",
    "  xs = json.load(f)\n",
    "\n",
    "with open('pmap.json') as f:\n",
    "  pmap = json.load(f)"
   ]
  },
  {
   "cell_type": "code",
   "execution_count": 3,
   "metadata": {},
   "outputs": [],
   "source": [
    "year = '2017'\n",
    "nfiles = len(subprocess.getoutput(\"ls infiles-split/\"+year+\"*.json\").split())\n",
    "outsum = processor.dict_accumulator()"
   ]
  },
  {
   "cell_type": "code",
   "execution_count": null,
   "metadata": {},
   "outputs": [],
   "source": [
    "# Load all files\n",
    "for n in range(1,nfiles+1):\n",
    "\n",
    "    with open('infiles-split/'+year+'_'+str(n)+'.json') as f:\n",
    "      infiles = json.load(f)\n",
    "    \n",
    "    filename = '/myeosdir/vh-category/outfiles/'+year+'_'+str(n)+'.coffea'\n",
    "    #filename = 'outfiles/'+year+'_'+str(n)+'.coffea'\n",
    "    if os.path.isfile(filename):\n",
    "        out = util.load(filename)\n",
    "        outsum.add(out)\n",
    "    else:\n",
    "        print(n,infiles.keys())\n",
    "        #print(\"File \" + filename + \" is missing\")\n",
    "        \n",
    "scale_lumi = {k: xs[k] * 1000 *lumis[year] / w for k, w in outsum['sumw'].items()}\n",
    "outsum['templates'].scale(scale_lumi, 'dataset')\n",
    "outsum['templates-vh-1'].scale(scale_lumi, 'dataset')\n",
    "outsum['templates-vh-2'].scale(scale_lumi, 'dataset')\n",
    "outsum['templates-vh-3'].scale(scale_lumi, 'dataset')\n",
    "\n",
    "templates = outsum['templates'].group('dataset', hist.Cat('process', 'Process'), pmap).integrate('region','signal').integrate('systematic', 'nominal')\n",
    "templates1 = outsum['templates-vh-1'].group('dataset', hist.Cat('process', 'Process'), pmap).integrate('region','signal')\n",
    "templates2 = outsum['templates-vh-2'].group('dataset', hist.Cat('process', 'Process'), pmap).integrate('region','signal')\n",
    "templates3 = outsum['templates-vh-3'].group('dataset', hist.Cat('process', 'Process'), pmap).integrate('region','signal')\n",
    "del outsum\n",
    "\n",
    "print('ok')"
   ]
  },
  {
   "cell_type": "code",
   "execution_count": null,
   "metadata": {},
   "outputs": [],
   "source": [
    "# check intergrals\n",
    "templates.sum('pt1','msd1','ddb1','DR')"
   ]
  },
  {
   "cell_type": "code",
   "execution_count": null,
   "metadata": {},
   "outputs": [],
   "source": [
    "ptbins = [450, 500, 550, 600, 675, 800, 1200]\n",
    "os.system('rm '+year+'/signalregion.root')\n",
    "fout = uproot3.create(year+'/signalregion.root')\n",
    "#for i,b in enumerate(ptbins[:-1]):\n",
    "#    for p in pmap.keys():  \n",
    "#        print(p)\n",
    "#        for s in systematics:\n",
    "#            h = templates.integrate('region', 'signal').integrate('systematic',s).integrate('pt1',int_range=slice(ptbins[i],ptbins[i+1])).integrate('ddb1',int_range=slice(0.89,1)).integrate('process',p)\n",
    "#            fout[p+\"_pass_pt\"+str(i+1)+\"_\"+s] = hist.export1d(h)\n",
    "#            h = templates.integrate('region', 'signal').integrate('systematic',s).integrate('pt1',int_range=slice(ptbins[i],ptbins[i+1])).integrate('ddb1',int_range=slice(0,0.89)).integrate('process',p)\n",
    "#            fout[p+\"_fail_pt\"+str(i+1)+\"_\"+s] = hist.export1d(h)\n",
    "\n",
    "fout.close()"
   ]
  },
  {
   "cell_type": "code",
   "execution_count": null,
   "metadata": {},
   "outputs": [],
   "source": [
    "#os.system('rm '+year+'/muonCR.root')\n",
    "#fout = uproot3.create(year+'/muonCR.root')\n",
    "#for p in pmap.keys():  \n",
    "#    print(p)\n",
    "#    for s in systematics:\n",
    "#        # muonkin\n",
    "#        h = templates.integrate('region', 'muoncontrol').integrate('systematic',s).sum('pt1').integrate('ddb1',int_range=slice(0.89,1)).integrate('process',p)\n",
    "#        fout[p+\"_pass_\"+s] = hist.export1d(h)\n",
    "#        h = templates.integrate('region', 'muoncontrol').integrate('systematic',s).sum('pt1').integrate('ddb1',int_range=slice(0,0.89)).integrate('process',p)\n",
    "#        fout[p+\"_fail_\"+s] = hist.export1d(h)"
   ]
  },
  {
   "cell_type": "code",
   "execution_count": null,
   "metadata": {},
   "outputs": [],
   "source": []
  }
 ],
 "metadata": {
  "kernelspec": {
   "display_name": "Python 3",
   "language": "python",
   "name": "python3"
  },
  "language_info": {
   "codemirror_mode": {
    "name": "ipython",
    "version": 3
   },
   "file_extension": ".py",
   "mimetype": "text/x-python",
   "name": "python",
   "nbconvert_exporter": "python",
   "pygments_lexer": "ipython3",
   "version": "3.8.8"
  }
 },
 "nbformat": 4,
 "nbformat_minor": 2
}

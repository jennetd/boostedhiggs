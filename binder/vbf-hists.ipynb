{
 "cells": [
  {
   "cell_type": "code",
   "execution_count": 1,
   "metadata": {},
   "outputs": [],
   "source": [
    "import os, subprocess\n",
    "import json\n",
    "import uproot3\n",
    "import awkward as ak\n",
    "import numpy as np\n",
    "from coffea import processor, util, hist\n",
    "import pickle\n",
    "\n",
    "from plotter import *"
   ]
  },
  {
   "cell_type": "code",
   "execution_count": 2,
   "metadata": {},
   "outputs": [],
   "source": [
    "lumis = {}\n",
    "lumis['2016'] = 35.9\n",
    "lumis['2017'] = 41.5\n",
    "lumis['2018'] = 59.9\n",
    "\n",
    "with open('xsec.json') as f:\n",
    "  xs = json.load(f)\n",
    "\n",
    "with open('pmap.json') as f:\n",
    "  pmap = json.load(f)\n",
    "\n",
    "systematics = ['nominal',\n",
    "               'jet_triggerUp','jet_triggerDown',\n",
    "               'btagWeightUp','btagWeightDown','btagEffStatUp','btagEffStatDown',\n",
    "               'UESUp','UESDown','JESUp','JESDown','JERUp','JERDown',\n",
    "               'pileup_weightUp','pileup_weightDown'\n",
    "              ]"
   ]
  },
  {
   "cell_type": "code",
   "execution_count": 3,
   "metadata": {},
   "outputs": [],
   "source": [
    "deta_cut = 3.5\n",
    "mjj_cut = 1000\n",
    "\n",
    "deta_cut_mucr = 0\n",
    "mjj_cut_mucr = 0"
   ]
  },
  {
   "cell_type": "code",
   "execution_count": 4,
   "metadata": {},
   "outputs": [],
   "source": [
    "year = '2017'\n",
    "nfiles = len(subprocess.getoutput(\"ls infiles-split/\"+year+\"*.json\").split())\n",
    "outsum = processor.dict_accumulator()"
   ]
  },
  {
   "cell_type": "code",
   "execution_count": 5,
   "metadata": {},
   "outputs": [],
   "source": [
    "repickle=True\n",
    "\n",
    "# Check if pickle exists, and don't re-create it if it does\n",
    "picklename = 'pickles/'+str(year)+'_templates.pkl'\n",
    "if os.path.isfile(picklename):\n",
    "    repickle=False"
   ]
  },
  {
   "cell_type": "code",
   "execution_count": 6,
   "metadata": {},
   "outputs": [
    {
     "name": "stdout",
     "output_type": "stream",
     "text": [
      "Missing file 2416 dict_keys(['WJetsToLNu_HT-800To1200_TuneCP5_13TeV-madgraphMLM-pythia8'])\n"
     ]
    },
    {
     "name": "stderr",
     "output_type": "stream",
     "text": [
      "/opt/conda/lib/python3.8/site-packages/coffea/hist/hist_tools.py:376: RuntimeWarning: Not all requested indices present in <Cat (name=dataset) instance at 0x7f9c39c5a700>\n",
      "  warnings.warn(\n"
     ]
    }
   ],
   "source": [
    "# Load all files - this takes a while\n",
    "if repickle:\n",
    "    nfiles = len(subprocess.getoutput(\"ls infiles-split/\"+year+\"*.json\").split())\n",
    "    for n in range(1,nfiles+1):\n",
    "\n",
    "        with open('infiles-split/'+year+'_'+str(n)+'.json') as f:\n",
    "            infiles = json.load(f)\n",
    "    \n",
    "        filename = '/myeosdir/vbf-category/outfiles/'+year+'_'+str(n)+'.coffea'\n",
    "        if os.path.isfile(filename):\n",
    "            out = util.load(filename)\n",
    "            outsum.add(out)\n",
    "        else:\n",
    "            print('Missing file '+str(n),infiles.keys())\n",
    "            #print(\"File \" + filename + \" is missing\")\n",
    "        \n",
    "    scale_lumi = {k: xs[k] * 1000 *lumis[year] / w for k, w in outsum['sumw'].items()}\n",
    "    outsum['templates-vbf'].scale(scale_lumi, 'dataset')\n",
    "    templates = outsum['templates-vbf'].group('dataset', hist.Cat('process', 'Process'), pmap)\n",
    "\n",
    "    outfile = open(picklename, 'wb')\n",
    "    pickle.dump(templates, outfile, protocol=-1)\n",
    "    outfile.close()"
   ]
  },
  {
   "cell_type": "code",
   "execution_count": 7,
   "metadata": {},
   "outputs": [],
   "source": [
    "# Read the histogram from the pickle file\n",
    "templates = pickle.load(open(picklename,'rb'))\n",
    "templates_vbf = templates.integrate('region','signal').integrate('deta',int_range=slice(deta_cut,7)).integrate('mjj',int_range=slice(mjj_cut,4000))\n",
    "templates_vbf_mucr = templates.integrate('region','muoncontrol').integrate('deta',int_range=slice(deta_cut_mucr,7)).integrate('mjj',int_range=slice(mjj_cut_mucr,4000))"
   ]
  },
  {
   "cell_type": "code",
   "execution_count": 8,
   "metadata": {},
   "outputs": [
    {
     "data": {
      "text/plain": [
       "{('ZH',): array(0.1281014),\n",
       " ('WH',): array(0.30197725),\n",
       " ('ttH',): array(0.35629802),\n",
       " ('VBF',): array(4.88352433),\n",
       " ('ggF',): array(0.93687002),\n",
       " ('ggF-powheg',): array(2.97746386),\n",
       " ('QCD',): array(171858.32823406),\n",
       " ('VV',): array(43.05226924),\n",
       " ('Wjets',): array(3479.14796864),\n",
       " ('Zjets',): array(1499.54278529),\n",
       " ('ttbar',): array(568.41891345),\n",
       " ('singlet',): array(115.38995142),\n",
       " ('data',): array(178446.),\n",
       " ('muondata',): array(4184.)}"
      ]
     },
     "execution_count": 8,
     "metadata": {},
     "output_type": "execute_result"
    }
   ],
   "source": [
    "templates_vbf.sum('pt1','msd1').integrate('ddb1',int_range=slice(0,0.89)).integrate('systematic','nominal').values()"
   ]
  },
  {
   "cell_type": "code",
   "execution_count": 9,
   "metadata": {},
   "outputs": [
    {
     "data": {
      "text/plain": [
       "[<StringBin (JERDown) instance at 0x7f9c7ff6bd60>,\n",
       " <StringBin (JERUp) instance at 0x7f9c7ff6bcd0>,\n",
       " <StringBin (JESDown) instance at 0x7f9c7ff6bc10>,\n",
       " <StringBin (JESUp) instance at 0x7f9c7ff6bbb0>,\n",
       " <StringBin (UESDown) instance at 0x7f9c7ff6bc70>,\n",
       " <StringBin (UESUp) instance at 0x7f9c7ff6b8e0>,\n",
       " <StringBin (W_d2kappa_EWDown) instance at 0x7f9c39c40940>,\n",
       " <StringBin (W_d2kappa_EWUp) instance at 0x7f9c9c378340>,\n",
       " <StringBin (W_d3kappa_EWDown) instance at 0x7f9c7ff6bdc0>,\n",
       " <StringBin (W_d3kappa_EWUp) instance at 0x7f9c7ff6bfa0>,\n",
       " <StringBin (Z_d2kappa_EWDown) instance at 0x7f9c39c40100>,\n",
       " <StringBin (Z_d2kappa_EWUp) instance at 0x7f9c39c40700>,\n",
       " <StringBin (Z_d3kappa_EWDown) instance at 0x7f9c39c405b0>,\n",
       " <StringBin (Z_d3kappa_EWUp) instance at 0x7f9c39c40910>,\n",
       " <StringBin (btagEffStatDown) instance at 0x7f9c7ff6ba90>,\n",
       " <StringBin (btagEffStatUp) instance at 0x7f9c7ff6ba00>,\n",
       " <StringBin (btagWeightDown) instance at 0x7f9c7ff6ba60>,\n",
       " <StringBin (btagWeightUp) instance at 0x7f9c7ff6bb50>,\n",
       " <StringBin (d1K_NLODown) instance at 0x7f9c7ff6be20>,\n",
       " <StringBin (d1K_NLOUp) instance at 0x7f9c39c40b80>,\n",
       " <StringBin (d1kappa_EWDown) instance at 0x7f9c7ff6bee0>,\n",
       " <StringBin (d1kappa_EWUp) instance at 0x7f9c39c40880>,\n",
       " <StringBin (d2K_NLODown) instance at 0x7f9c9c378e50>,\n",
       " <StringBin (d2K_NLOUp) instance at 0x7f9c7ff6be80>,\n",
       " <StringBin (d3K_NLODown) instance at 0x7f9c7ff6bf40>,\n",
       " <StringBin (d3K_NLOUp) instance at 0x7f9c7ff6bf10>,\n",
       " <StringBin (jet_triggerDown) instance at 0x7f9c7ff6b940>,\n",
       " <StringBin (jet_triggerUp) instance at 0x7f9c7ff6b880>,\n",
       " <StringBin (nominal) instance at 0x7f9c7ff6b820>,\n",
       " <StringBin (pileup_weightDown) instance at 0x7f9c7ff6b9a0>,\n",
       " <StringBin (pileup_weightUp) instance at 0x7f9c7ff6baf0>]"
      ]
     },
     "execution_count": 9,
     "metadata": {},
     "output_type": "execute_result"
    }
   ],
   "source": [
    "templates_vbf.identifiers('systematic')"
   ]
  },
  {
   "cell_type": "code",
   "execution_count": 12,
   "metadata": {},
   "outputs": [
    {
     "name": "stdout",
     "output_type": "stream",
     "text": [
      "ZH\n",
      "WH\n",
      "ttH\n",
      "VBF\n",
      "ggF\n",
      "ggF-powheg\n",
      "QCD\n",
      "VV\n",
      "Wjets\n",
      "Zjets\n",
      "ttbar\n",
      "singlet\n",
      "data\n",
      "muondata\n"
     ]
    }
   ],
   "source": [
    "os.system('rm '+year+'/1-signalregion.root')\n",
    "fout = uproot3.create(year+'/1-signalregion.root')\n",
    "for p in pmap.keys():  \n",
    "    print(p)\n",
    "    if \"data\" in p:\n",
    "        s = \"nominal\"\n",
    "        h = templates_vbf.sum('pt1').integrate('systematic',s).integrate('ddb1',int_range=slice(0.89,1)).integrate('process',p)\n",
    "\n",
    "        fout[\"pass_\"+p+\"_\"+s] = hist.export1d(h)\n",
    "        h = templates_vbf.sum('pt1').integrate('systematic',s).integrate('ddb1',int_range=slice(0,0.89)).integrate('process',p)\n",
    "        fout[\"fail_\"+p+\"_\"+s] = hist.export1d(h)\n",
    "    else:\n",
    "        for s in systematics:\n",
    "            h = templates_vbf.sum('pt1').integrate('systematic',s).integrate('ddb1',int_range=slice(0.89,1)).integrate('process',p)\n",
    "            fout[\"pass_\"+p+\"_\"+s] = hist.export1d(h)\n",
    "            h = templates_vbf.sum('pt1').integrate('systematic',s).integrate('ddb1',int_range=slice(0,0.89)).integrate('process',p)\n",
    "            fout[\"fail_\"+p+\"_\"+s] = hist.export1d(h)\n",
    "\n",
    "fout.close()"
   ]
  },
  {
   "cell_type": "code",
   "execution_count": 13,
   "metadata": {},
   "outputs": [
    {
     "name": "stdout",
     "output_type": "stream",
     "text": [
      "ZH\n",
      "WH\n",
      "ttH\n",
      "VBF\n",
      "ggF\n",
      "ggF-powheg\n",
      "QCD\n",
      "VV\n",
      "Wjets\n",
      "Zjets\n",
      "ttbar\n",
      "singlet\n",
      "data\n",
      "muondata\n",
      "ZH\n",
      "WH\n",
      "ttH\n",
      "VBF\n",
      "ggF\n",
      "ggF-powheg\n",
      "QCD\n",
      "VV\n",
      "Wjets\n",
      "Zjets\n",
      "ttbar\n",
      "singlet\n",
      "data\n",
      "muondata\n"
     ]
    }
   ],
   "source": [
    "ptbins = [450, 550, 1200]\n",
    "os.system('rm '+year+'/2pt-signalregion.root')\n",
    "fout = uproot3.create(year+'/2pt-signalregion.root')\n",
    "\n",
    "for i,b in enumerate(ptbins[:-1]):\n",
    "    for p in pmap.keys(): \n",
    "        print(p)\n",
    "        if \"data\" in p:\n",
    "            s = \"nominal\"\n",
    "            h = templates_vbf.integrate('systematic',s).integrate('pt1',int_range=slice(ptbins[i],ptbins[i+1])).integrate('ddb1',int_range=slice(0.89,1)).integrate('process',p)\n",
    "            fout[\"pass_pt\"+str(i+1)+\"_\"+p+\"_\"+s] = hist.export1d(h)\n",
    "            h = templates_vbf.integrate('systematic',s).integrate('pt1',int_range=slice(ptbins[i],ptbins[i+1])).integrate('ddb1',int_range=slice(0,0.89)).integrate('process',p)\n",
    "            fout[\"fail_pt\"+str(i+1)+\"_\"+p+\"_\"+s] = hist.export1d(h)\n",
    "        else:\n",
    "            for s in systematics:\n",
    "                h = templates_vbf.integrate('systematic',s).integrate('pt1',int_range=slice(ptbins[i],ptbins[i+1])).integrate('ddb1',int_range=slice(0.89,1)).integrate('process',p)\n",
    "                fout[\"pass_pt\"+str(i+1)+\"_\"+p+\"_\"+s] = hist.export1d(h)\n",
    "                h = templates_vbf.integrate('systematic',s).integrate('pt1',int_range=slice(ptbins[i],ptbins[i+1])).integrate('ddb1',int_range=slice(0,0.89)).integrate('process',p)\n",
    "                fout[\"fail_pt\"+str(i+1)+\"_\"+p+\"_\"+s] = hist.export1d(h)\n",
    "\n",
    "fout.close()"
   ]
  },
  {
   "cell_type": "code",
   "execution_count": 15,
   "metadata": {},
   "outputs": [
    {
     "name": "stdout",
     "output_type": "stream",
     "text": [
      "ZH\n",
      "WH\n",
      "ttH\n",
      "VBF\n",
      "ggF\n",
      "ggF-powheg\n",
      "QCD\n",
      "VV\n",
      "Wjets\n",
      "Zjets\n",
      "ttbar\n",
      "singlet\n",
      "data\n",
      "muondata\n"
     ]
    }
   ],
   "source": [
    "os.system('rm '+year+'/muonCR.root')\n",
    "fout = uproot3.create(year+'/muonCR.root')\n",
    "for p in pmap.keys():  \n",
    "    print(p)\n",
    "    if \"data\" in p:\n",
    "        s = \"nominal\"\n",
    "        h = templates_vbf_mucr.integrate('systematic',s).sum('pt1').integrate('ddb1',int_range=slice(0.89,1)).integrate('process',p)\n",
    "        fout[\"pass_\"+p+\"_\"+s] = hist.export1d(h)\n",
    "        h = templates_vbf_mucr.integrate('systematic',s).sum('pt1').integrate('ddb1',int_range=slice(0,0.89)).integrate('process',p)\n",
    "        fout[\"fail_\"+p+\"_\"+s] = hist.export1d(h)\n",
    "    else:\n",
    "        for s in systematics:\n",
    "            h = templates_vbf_mucr.integrate('systematic',s).sum('pt1').integrate('ddb1',int_range=slice(0.89,1)).integrate('process',p)\n",
    "            fout[\"pass_\"+p+\"_\"+s] = hist.export1d(h)\n",
    "            h = templates_vbf_mucr.integrate('systematic',s).sum('pt1').integrate('ddb1',int_range=slice(0,0.89)).integrate('process',p)\n",
    "            fout[\"fail_\"+p+\"_\"+s] = hist.export1d(h)"
   ]
  },
  {
   "cell_type": "code",
   "execution_count": null,
   "metadata": {},
   "outputs": [],
   "source": []
  }
 ],
 "metadata": {
  "kernelspec": {
   "display_name": "Python 3",
   "language": "python",
   "name": "python3"
  },
  "language_info": {
   "codemirror_mode": {
    "name": "ipython",
    "version": 3
   },
   "file_extension": ".py",
   "mimetype": "text/x-python",
   "name": "python",
   "nbconvert_exporter": "python",
   "pygments_lexer": "ipython3",
   "version": "3.8.8"
  }
 },
 "nbformat": 4,
 "nbformat_minor": 2
}

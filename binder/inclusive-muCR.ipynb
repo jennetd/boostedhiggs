{
 "cells": [
  {
   "cell_type": "code",
   "execution_count": 24,
   "metadata": {},
   "outputs": [],
   "source": [
    "import os, subprocess\n",
    "import json\n",
    "import uproot3\n",
    "import awkward as ak\n",
    "import numpy as np\n",
    "from coffea import processor, util, hist\n",
    "import pandas as pd\n",
    "import pickle\n",
    "\n",
    "from plotter import *"
   ]
  },
  {
   "cell_type": "code",
   "execution_count": 25,
   "metadata": {},
   "outputs": [],
   "source": [
    "lumis = {}\n",
    "lumis['2016'] = 35.9\n",
    "lumis['2017'] = 41.5\n",
    "lumis['2018'] = 59.9\n",
    "\n",
    "with open('xsec.json') as f:\n",
    "  xs = json.load(f)\n",
    "\n",
    "with open('pmap.json') as f:\n",
    "  pmap = json.load(f)"
   ]
  },
  {
   "cell_type": "code",
   "execution_count": 26,
   "metadata": {},
   "outputs": [],
   "source": [
    "year = '2017'\n",
    "nfiles = len(subprocess.getoutput(\"ls infiles-split/\"+year+\"*.json\").split())\n",
    "outsum = processor.dict_accumulator()"
   ]
  },
  {
   "cell_type": "code",
   "execution_count": 27,
   "metadata": {},
   "outputs": [],
   "source": [
    "repickle=False\n",
    "\n",
    "# Check if pickle exists, and don't re-create it if it does\n",
    "picklename1 = 'pickles/'+year+'_muonkin.pkl'\n",
    "if not os.path.isfile(picklename1):\n",
    "    repickle=True\n",
    "picklename2 = 'pickles/'+year+'_mujetkin.pkl'\n",
    "if not os.path.isfile(picklename2):\n",
    "    repickle=True"
   ]
  },
  {
   "cell_type": "code",
   "execution_count": 28,
   "metadata": {},
   "outputs": [],
   "source": [
    "# Load all files - this takes a while\n",
    "if repickle:\n",
    "    nfiles = len(subprocess.getoutput(\"ls infiles-split/\"+year+\"*.json\").split())\n",
    "    for n in range(1,nfiles+1):\n",
    "\n",
    "        with open('infiles-split/'+year+'_'+str(n)+'.json') as f:\n",
    "            infiles = json.load(f)\n",
    "    \n",
    "        filename = '/myeosdir/inclusive-muon/outfiles/'+year+'_'+str(n)+'.coffea'\n",
    "        if os.path.isfile(filename):\n",
    "            out = util.load(filename)\n",
    "            outsum.add(out)\n",
    "        else:\n",
    "            print('Missing file '+str(n),infiles.keys())\n",
    "            #print(\"File \" + filename + \" is missing\")\n",
    "        \n",
    "    scale_lumi = {k: xs[k] * 1000 *lumis[year] / w for k, w in outsum['sumw'].items()}\n",
    "\n",
    "    muonkin = outsum['muonkin']\n",
    "    mujetkin = outsum['mujetkin']\n",
    "    \n",
    "    muonkin.scale(scale_lumi, 'dataset')\n",
    "    mujetkin.scale(scale_lumi, 'dataset')\n",
    "\n",
    "    muonkin = muonkin.group('dataset', hist.Cat('process', 'Process'), pmap)\n",
    "    mujetkin = mujetkin.group('dataset', hist.Cat('process', 'Process'), pmap)\n",
    "\n",
    "    outfile = open(picklename1, 'wb')\n",
    "    pickle.dump(muonkin, outfile, protocol=-1)\n",
    "    outfile.close()\n",
    "    \n",
    "    outfile = open(picklename2, 'wb')\n",
    "    pickle.dump(mujetkin, outfile, protocol=-1)\n",
    "    outfile.close()"
   ]
  },
  {
   "cell_type": "code",
   "execution_count": 29,
   "metadata": {},
   "outputs": [],
   "source": [
    "cutflow = pickle.load(open('pickles/'+str(year)+'_cutflow.pkl','rb'))\n",
    "cutflow = cutflow.sum('genflavor').integrate('region','muoncontrol')"
   ]
  },
  {
   "cell_type": "code",
   "execution_count": 30,
   "metadata": {},
   "outputs": [
    {
     "ename": "KeyError",
     "evalue": "'cutflow'",
     "output_type": "error",
     "traceback": [
      "\u001b[0;31m---------------------------------------------------------------------------\u001b[0m",
      "\u001b[0;31mKeyError\u001b[0m                                  Traceback (most recent call last)",
      "\u001b[0;32m<ipython-input-30-b91959c4f1f7>\u001b[0m in \u001b[0;36m<module>\u001b[0;34m\u001b[0m\n\u001b[0;32m----> 1\u001b[0;31m \u001b[0mcutflow\u001b[0m \u001b[0;34m=\u001b[0m \u001b[0moutsum\u001b[0m\u001b[0;34m[\u001b[0m\u001b[0;34m'cutflow'\u001b[0m\u001b[0;34m]\u001b[0m\u001b[0;34m.\u001b[0m\u001b[0mgroup\u001b[0m\u001b[0;34m(\u001b[0m\u001b[0;34m'dataset'\u001b[0m\u001b[0;34m,\u001b[0m \u001b[0mhist\u001b[0m\u001b[0;34m.\u001b[0m\u001b[0mCat\u001b[0m\u001b[0;34m(\u001b[0m\u001b[0;34m'process'\u001b[0m\u001b[0;34m,\u001b[0m \u001b[0;34m'Process'\u001b[0m\u001b[0;34m)\u001b[0m\u001b[0;34m,\u001b[0m \u001b[0mpmap\u001b[0m\u001b[0;34m)\u001b[0m\u001b[0;34m.\u001b[0m\u001b[0msum\u001b[0m\u001b[0;34m(\u001b[0m\u001b[0;34m'genflavor'\u001b[0m\u001b[0;34m)\u001b[0m\u001b[0;34m.\u001b[0m\u001b[0mintegrate\u001b[0m\u001b[0;34m(\u001b[0m\u001b[0;34m'region'\u001b[0m\u001b[0;34m,\u001b[0m\u001b[0;34m'muoncontrol'\u001b[0m\u001b[0;34m)\u001b[0m\u001b[0;34m\u001b[0m\u001b[0;34m\u001b[0m\u001b[0m\n\u001b[0m",
      "\u001b[0;31mKeyError\u001b[0m: 'cutflow'"
     ]
    }
   ],
   "source": [
    "cutflow = outsum['cutflow'].group('dataset', hist.Cat('process', 'Process'), pmap).sum('genflavor').integrate('region','muoncontrol')"
   ]
  },
  {
   "cell_type": "code",
   "execution_count": null,
   "metadata": {},
   "outputs": [],
   "source": [
    "cutflow.integrate('process','muondata').values()"
   ]
  },
  {
   "cell_type": "code",
   "execution_count": null,
   "metadata": {},
   "outputs": [],
   "source": [
    "cutflow.integrate('process','ttbar').values()"
   ]
  },
  {
   "cell_type": "code",
   "execution_count": null,
   "metadata": {},
   "outputs": [],
   "source": [
    "df1 = pd.DataFrame([])\n",
    "\n",
    "df1['QCD'] = cutflow.values()[('QCD',)]\n",
    "df1['Wjets'] = cutflow.values()[('Wjets',)]\n",
    "df1['Zjets'] = cutflow.values()[('Zjets',)]\n",
    "df1['VV'] = cutflow.values()[('VV',)]\n",
    "df1['ttbar'] = cutflow.values()[('ttbar',)]\n",
    "df1['singlet'] = cutflow.values()[('singlet',)]\n",
    "df1['data'] = cutflow.values()[('muondata',)]\n",
    "\n",
    "df1 = df1[1:9].astype('int')\n",
    "df1.index = ['Jet kinematics','Jet ID','Jet $N_2^\\text{DDT}$','b-tag','No e/tau','One muon','Dphi(muon,AK8)','DeepDoubleB']\n",
    "df1.to_latex(buf=year+'/cutflow-muoncr.tex')"
   ]
  },
  {
   "cell_type": "code",
   "execution_count": null,
   "metadata": {},
   "outputs": [],
   "source": [
    "templates = pickle.load(open('pickles/'+str(year)+'_templates.pkl','rb'))\n",
    "templates = templates.integrate('systematic','nominal')\n",
    "muonkin = pickle.load(open('pickles/'+str(year)+'_muonkin.pkl','rb'))\n",
    "mujetkin = pickle.load(open('pickles/'+str(year)+'_mujetkin.pkl','rb'))"
   ]
  },
  {
   "cell_type": "code",
   "execution_count": null,
   "metadata": {},
   "outputs": [],
   "source": [
    "h = templates.integrate('region', 'muoncontrol').sum('pt1').integrate('ddb1',int_range=slice(0,0.89))\n",
    "plot_datamc_muoncr(h,year+'/muCR_msd1_fail',year+\" muon CR, DDB fail\")\n",
    "h = templates.integrate('region', 'muoncontrol').sum('pt1').integrate('ddb1',int_range=slice(0.89,1))\n",
    "plot_datamc_muoncr(h,year+'/muCR_msd1_pass',year+\" muon CR, DDB pass\")\n",
    "h = templates.integrate('region', 'muoncontrol').sum('ddb1','pt1')\n",
    "plot_datamc_muoncr(h,year+'/muCR_msd1',year+\" muon CR\")"
   ]
  },
  {
   "cell_type": "code",
   "execution_count": null,
   "metadata": {},
   "outputs": [],
   "source": [
    "h = templates.integrate('region', 'muoncontrol').sum('ddb1','msd1')\n",
    "plot_datamc_muoncr(h,year+'/muCR_pt1',year+\" muon CR\")"
   ]
  },
  {
   "cell_type": "code",
   "execution_count": null,
   "metadata": {},
   "outputs": [],
   "source": [
    "h = mujetkin.integrate('region', 'muoncontrol').sum('ddb1')\n",
    "plot_datamc_muoncr(h,year+'/muCR_eta1',year+\" muon CR\")"
   ]
  },
  {
   "cell_type": "code",
   "execution_count": null,
   "metadata": {},
   "outputs": [],
   "source": [
    "h = mujetkin.integrate('region', 'muoncontrol').sum('eta1')\n",
    "plot_datamc_muoncr(h,year+'/muCR_ddb1',year+\" muon CR\")"
   ]
  },
  {
   "cell_type": "code",
   "execution_count": null,
   "metadata": {},
   "outputs": [],
   "source": [
    "h = muonkin.integrate('region', 'muoncontrol').sum('etamu').integrate('ddb1',int_range=slice(0.89,1))\n",
    "plot_datamc_muoncr(h,year+'/muCR_ptmu_pass',year+\" muon CR, DDB pass\")\n",
    "h = muonkin.integrate('region', 'muoncontrol').sum('etamu').integrate('ddb1',int_range=slice(0,0.89))\n",
    "plot_datamc_muoncr(h,year+'/muCR_ptmu_fail',year+\" muon CR, DDB fail\")\n",
    "h = muonkin.integrate('region', 'muoncontrol').sum('etamu','ddb1')\n",
    "plot_datamc_muoncr(h,year+'/muCR_ptmu',year+\" muon CR\")"
   ]
  },
  {
   "cell_type": "code",
   "execution_count": null,
   "metadata": {},
   "outputs": [],
   "source": [
    "h = muonkin.integrate('region', 'muoncontrol').sum('ptmu').integrate('ddb1',int_range=slice(0.89,1))\n",
    "plot_datamc_muoncr(h,year+'/muCR_etamu_pass',year+\" muon CR, DDB pass\")\n",
    "h = muonkin.integrate('region', 'muoncontrol').sum('ptmu').integrate('ddb1',int_range=slice(0,0.89))\n",
    "plot_datamc_muoncr(h,year+'/muCR_etamu_fail',year+\" muon CR, DDB fail\")\n",
    "h = muonkin.integrate('region', 'muoncontrol').sum('ptmu','ddb1')\n",
    "plot_datamc_muoncr(h,year+'/muCR_etamu',year+\" muon CR\")"
   ]
  },
  {
   "cell_type": "code",
   "execution_count": null,
   "metadata": {},
   "outputs": [],
   "source": []
  }
 ],
 "metadata": {
  "kernelspec": {
   "display_name": "Python 3",
   "language": "python",
   "name": "python3"
  },
  "language_info": {
   "codemirror_mode": {
    "name": "ipython",
    "version": 3
   },
   "file_extension": ".py",
   "mimetype": "text/x-python",
   "name": "python",
   "nbconvert_exporter": "python",
   "pygments_lexer": "ipython3",
   "version": "3.8.8"
  }
 },
 "nbformat": 4,
 "nbformat_minor": 2
}

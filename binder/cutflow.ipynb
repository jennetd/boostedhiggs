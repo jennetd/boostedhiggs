{
 "cells": [
  {
   "cell_type": "code",
   "execution_count": 31,
   "metadata": {},
   "outputs": [],
   "source": [
    "import os, subprocess\n",
    "import json\n",
    "import uproot\n",
    "import awkward as ak\n",
    "import numpy as np\n",
    "from coffea import processor, util, hist\n",
    "import pandas as pd\n",
    "import pickle"
   ]
  },
  {
   "cell_type": "code",
   "execution_count": 32,
   "metadata": {},
   "outputs": [],
   "source": [
    "lumis = {}\n",
    "lumis['2016'] = 35.9\n",
    "lumis['2017'] = 41.5\n",
    "lumis['2018'] = 59.9\n",
    "\n",
    "with open('xsec.json') as f:\n",
    "  xs = json.load(f)\n",
    "\n",
    "with open('pmap.json') as f:\n",
    "  pmap = json.load(f)"
   ]
  },
  {
   "cell_type": "code",
   "execution_count": 33,
   "metadata": {},
   "outputs": [],
   "source": [
    "year = '2017'\n",
    "nfiles = len(subprocess.getoutput(\"ls infiles-split/\"+year+\"*.json\").split())\n",
    "outsum = processor.dict_accumulator()"
   ]
  },
  {
   "cell_type": "code",
   "execution_count": 34,
   "metadata": {},
   "outputs": [],
   "source": [
    "repickle=True\n",
    "\n",
    "# Check if pickle exists, and don't re-create it if it does\n",
    "picklename = 'pickles/'+str(year)+'_cutflow.pkl'\n",
    "if os.path.isfile(picklename):\n",
    "    repickle=False"
   ]
  },
  {
   "cell_type": "code",
   "execution_count": 35,
   "metadata": {},
   "outputs": [
    {
     "name": "stdout",
     "output_type": "stream",
     "text": [
      "Missing file 2416 dict_keys(['WJetsToLNu_HT-800To1200_TuneCP5_13TeV-madgraphMLM-pythia8'])\n"
     ]
    },
    {
     "name": "stderr",
     "output_type": "stream",
     "text": [
      "/opt/conda/lib/python3.8/site-packages/coffea/hist/hist_tools.py:376: RuntimeWarning: Not all requested indices present in <Cat (name=dataset) instance at 0x7f68f7eed490>\n",
      "  warnings.warn(\n"
     ]
    }
   ],
   "source": [
    "# Load all files - this takes a while\n",
    "if repickle:\n",
    "    nfiles = len(subprocess.getoutput(\"ls infiles-split/\"+year+\"*.json\").split())\n",
    "    for n in range(1,nfiles+1):\n",
    "\n",
    "        with open('infiles-split/'+year+'_'+str(n)+'.json') as f:\n",
    "            infiles = json.load(f)\n",
    "    \n",
    "        filename = '/myeosdir/vbf-category/outfiles/'+year+'_'+str(n)+'.coffea'\n",
    "        if os.path.isfile(filename):\n",
    "            out = util.load(filename)\n",
    "            outsum.add(out)\n",
    "        else:\n",
    "            print('Missing file '+str(n),infiles.keys())\n",
    "            #print(\"File \" + filename + \" is missing\")\n",
    "        \n",
    "    scale_lumi = {k: xs[k] * 1000 *lumis[year] / w for k, w in outsum['sumw'].items()}\n",
    "    outsum['cutflow'].scale(scale_lumi, 'dataset')\n",
    "    cutflow = outsum['cutflow'].group('dataset', hist.Cat('process', 'Process'), pmap)\n",
    "\n",
    "    outfile = open(picklename, 'wb')\n",
    "    pickle.dump(cutflow, outfile, protocol=-1)\n",
    "    outfile.close()"
   ]
  },
  {
   "cell_type": "code",
   "execution_count": 36,
   "metadata": {},
   "outputs": [],
   "source": [
    "# Read the histogram from the pickle file\n",
    "templates = pickle.load(open(picklename,'rb'))"
   ]
  },
  {
   "cell_type": "code",
   "execution_count": 37,
   "metadata": {},
   "outputs": [
    {
     "data": {
      "text/plain": [
       "<Hist (process,cut) instance at 0x7f68f7f3f310>"
      ]
     },
     "execution_count": 37,
     "metadata": {},
     "output_type": "execute_result"
    }
   ],
   "source": [
    "cutflow = templates.sum('genflavor').integrate('region','signal')\n",
    "cutflow"
   ]
  },
  {
   "cell_type": "code",
   "execution_count": 38,
   "metadata": {},
   "outputs": [
    {
     "data": {
      "text/plain": [
       "{('ZH',): array([365.04661246, 365.04661246, 365.04661246,  94.44354574,\n",
       "         94.44354574,  89.94455609,  54.9181011 ,  26.12645544,\n",
       "         19.65558786,  16.65618063,  14.41357777,   5.57013219,\n",
       "          0.        ,   0.        ,   0.        ]),\n",
       " ('WH',): array([434.9368986 , 434.9368986 , 434.9368986 , 118.84685093,\n",
       "        118.84685093, 112.22364368,  65.51732133,  35.13153055,\n",
       "         24.39392355,  21.28680113,  16.45224647,   5.16331346,\n",
       "          0.        ,   0.        ,   0.        ]),\n",
       " ('ttH',): array([1159.99415341, 1159.99415341, 1159.99415341,  436.11210501,\n",
       "         436.11210501,  367.29967141,  128.81905193,   43.36682103,\n",
       "          33.21939576,   21.98524851,   21.88846422,    5.76935766,\n",
       "           0.        ,    0.        ,    0.        ]),\n",
       " ('VBF',): array([752.21154159, 752.21154159, 752.21154159,  89.2079906 ,\n",
       "         89.2079906 ,  86.55060599,  47.81515367,  39.33505266,\n",
       "         37.32167334,  35.9610754 ,  32.79318705,  21.3440126 ,\n",
       "          0.        ,   0.        ,   0.        ]),\n",
       " ('ggF',): array([1752.12400991, 1752.12400991, 1752.12400991,  247.2981417 ,\n",
       "         247.2981417 ,  233.56107016,  111.96258936,   88.60025392,\n",
       "          86.04238333,   84.15279303,   75.96025347,   48.38900783,\n",
       "           0.        ,    0.        ,    0.        ]),\n",
       " ('ggF-powheg',): array([2597.56186488, 2597.56186488, 2597.56186488,  471.00638744,\n",
       "         471.00638744,  449.74902597,  227.65551014,  185.50616947,\n",
       "         177.64380713,  171.60486462,  155.21776159,   98.94560948,\n",
       "           0.        ,    0.        ,    0.        ]),\n",
       " ('QCD',): array([3.60568837e+08, 3.60568837e+08, 3.60568837e+08, 2.22826160e+07,\n",
       "        2.22826160e+07, 2.05810807e+07, 5.41839463e+06, 5.00079869e+06,\n",
       "        4.89304823e+06, 4.75949660e+06, 3.95843995e+06, 6.40963175e+04,\n",
       "        0.00000000e+00, 0.00000000e+00, 0.00000000e+00]),\n",
       " ('VV',): array([25050.93414074, 25050.93414074, 25050.93414074,  5190.37544261,\n",
       "         5190.37544261,  4909.18318669,  2840.07711053,  2600.01973   ,\n",
       "         1943.91724062,  1524.20339841,  1272.67134941,    55.54185555,\n",
       "            0.        ,     0.        ,     0.        ]),\n",
       " ('Wjets',): array([2.80711627e+06, 2.80711627e+06, 2.80711627e+06, 3.86749185e+05,\n",
       "        3.86749185e+05, 3.48758604e+05, 1.39679070e+05, 1.30104206e+05,\n",
       "        1.15788405e+05, 1.00219818e+05, 8.71559396e+04, 1.83741852e+03,\n",
       "        0.00000000e+00, 0.00000000e+00, 0.00000000e+00]),\n",
       " ('Zjets',): array([983272.19545297, 983272.19545297, 983272.19545297, 165285.18560402,\n",
       "        165285.18560402, 148716.33312075,  67095.35101154,  59959.76295199,\n",
       "         58069.43019438,  42601.11800263,  37646.85602518,   2446.49664943,\n",
       "             0.        ,      0.        ,      0.        ]),\n",
       " ('ttbar',): array([929251.7267791 , 929251.7267791 , 929251.7267791 , 228968.41310095,\n",
       "        228968.41310095, 205831.6594158 ,  71136.44330726,  38061.74103821,\n",
       "         29352.99565316,  20177.49625758,  19627.37357491,   2320.72365295,\n",
       "             0.        ,      0.        ,      0.        ]),\n",
       " ('singlet',): array([126611.06425491, 126611.06425491, 126611.06425491,  25693.09030492,\n",
       "         25693.09030492,  23486.95484035,  10840.10260391,   5571.32429119,\n",
       "          4332.13728831,   3346.38769008,   3094.00865203,    283.36288595,\n",
       "             0.        ,      0.        ,      0.        ]),\n",
       " ('data',): array([2.10881761e+08, 7.72115550e+07, 7.47537880e+07, 2.07504230e+07,\n",
       "        2.07504230e+07, 1.93360450e+07, 5.20697200e+06, 4.70277500e+06,\n",
       "        4.54883600e+06, 4.37860200e+06, 3.69625100e+06, 5.98570000e+04,\n",
       "        0.00000000e+00, 0.00000000e+00, 0.00000000e+00]),\n",
       " ('muondata',): array([2.9164308e+07, 2.0483120e+06, 1.9910530e+06, 5.2290100e+05,\n",
       "        5.2290100e+05, 4.7709700e+05, 1.4624800e+05, 1.0960800e+05,\n",
       "        9.4965000e+04, 7.8841000e+04, 6.9366000e+04, 4.5060000e+03,\n",
       "        0.0000000e+00, 0.0000000e+00, 0.0000000e+00])}"
      ]
     },
     "execution_count": 38,
     "metadata": {},
     "output_type": "execute_result"
    }
   ],
   "source": [
    "cutflow.values()"
   ]
  },
  {
   "cell_type": "code",
   "execution_count": 39,
   "metadata": {},
   "outputs": [],
   "source": [
    "df1 = pd.DataFrame([])\n",
    "\n",
    "df1['ggF'] = cutflow.values()[('ggF',)]\n",
    "df1['VBF'] = cutflow.values()[('VBF',)]\n",
    "df1['WH'] = cutflow.values()[('WH',)]\n",
    "df1['ZH'] = cutflow.values()[('ZH',)]\n",
    "df1['ttH'] = cutflow.values()[('ttH',)]\n",
    "\n",
    "df1 = df1[3:-3].astype('int')\n",
    "df1.index = ['Jet kinematics','Jet ID','Jet acceptance','Jet $N_2^\\text{DDT}$','Opp. hem. b veto','MET $<$ 140 GeV','No leptons','2 AK4 jets','DeepDoubleB']\n",
    "\n",
    "df1.to_latex(buf=year+'/cutflow-sig.tex')"
   ]
  },
  {
   "cell_type": "code",
   "execution_count": 40,
   "metadata": {},
   "outputs": [],
   "source": [
    "df2 = pd.DataFrame([])\n",
    "\n",
    "df2['QCD'] = cutflow.values()[('QCD',)]\n",
    "df2['Wjets'] = cutflow.values()[('Wjets',)]\n",
    "df2['Zjets'] = cutflow.values()[('Zjets',)]\n",
    "df2['VV'] = cutflow.values()[('VV',)]\n",
    "df2['ttbar'] = cutflow.values()[('ttbar',)]\n",
    "df2['singlet'] = cutflow.values()[('singlet',)]\n",
    "\n",
    "df2 = df2[3:-3].astype('int')\n",
    "df2.index = ['Jet kinematics','Jet ID','Jet acceptance','Jet $N_2^\\text{DDT}$','Opp. hem. b veto','MET $<$ 140 GeV','No leptons','2 AK4 jets','DeepDoubleB']\n",
    "\n",
    "df2.to_latex(buf=year+'/cutflow-bkg.tex')"
   ]
  },
  {
   "cell_type": "code",
   "execution_count": null,
   "metadata": {},
   "outputs": [],
   "source": []
  }
 ],
 "metadata": {
  "kernelspec": {
   "display_name": "Python 3",
   "language": "python",
   "name": "python3"
  },
  "language_info": {
   "codemirror_mode": {
    "name": "ipython",
    "version": 3
   },
   "file_extension": ".py",
   "mimetype": "text/x-python",
   "name": "python",
   "nbconvert_exporter": "python",
   "pygments_lexer": "ipython3",
   "version": "3.8.8"
  }
 },
 "nbformat": 4,
 "nbformat_minor": 2
}

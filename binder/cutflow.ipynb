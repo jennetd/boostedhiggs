{
 "cells": [
  {
   "cell_type": "code",
   "execution_count": 11,
   "metadata": {},
   "outputs": [],
   "source": [
    "import os, subprocess\n",
    "import json\n",
    "import uproot\n",
    "import awkward as ak\n",
    "import numpy as np\n",
    "from coffea import processor, util, hist\n",
    "import pandas as pd\n",
    "import pickle"
   ]
  },
  {
   "cell_type": "code",
   "execution_count": 12,
   "metadata": {},
   "outputs": [],
   "source": [
    "lumis = {}\n",
    "lumis['2016'] = 35.9\n",
    "lumis['2017'] = 41.5\n",
    "lumis['2018'] = 59.9\n",
    "\n",
    "with open('xsec.json') as f:\n",
    "  xs = json.load(f)\n",
    "\n",
    "with open('pmap.json') as f:\n",
    "  pmap = json.load(f)"
   ]
  },
  {
   "cell_type": "code",
   "execution_count": 13,
   "metadata": {},
   "outputs": [],
   "source": [
    "year = '2017'\n",
    "nfiles = len(subprocess.getoutput(\"ls infiles-split/\"+year+\"*.json\").split())\n",
    "outsum = processor.dict_accumulator()"
   ]
  },
  {
   "cell_type": "code",
   "execution_count": 14,
   "metadata": {},
   "outputs": [],
   "source": [
    "repickle=True\n",
    "\n",
    "# Check if pickle exists, and don't re-create it if it does\n",
    "picklename = 'pickles/'+str(year)+'_cutflow.pkl'\n",
    "if os.path.isfile(picklename):\n",
    "    repickle=False"
   ]
  },
  {
   "cell_type": "code",
   "execution_count": 15,
   "metadata": {},
   "outputs": [
    {
     "name": "stdout",
     "output_type": "stream",
     "text": [
      "Missing file 2416 dict_keys(['WJetsToLNu_HT-800To1200_TuneCP5_13TeV-madgraphMLM-pythia8'])\n"
     ]
    },
    {
     "name": "stderr",
     "output_type": "stream",
     "text": [
      "/opt/conda/lib/python3.8/site-packages/coffea/hist/hist_tools.py:376: RuntimeWarning: Not all requested indices present in <Cat (name=dataset) instance at 0x7ff67161a460>\n",
      "  warnings.warn(\n"
     ]
    }
   ],
   "source": [
    "# Load all files - this takes a while\n",
    "if repickle:\n",
    "    nfiles = len(subprocess.getoutput(\"ls infiles-split/\"+year+\"*.json\").split())\n",
    "    for n in range(1,nfiles+1):\n",
    "\n",
    "        with open('infiles-split/'+year+'_'+str(n)+'.json') as f:\n",
    "            infiles = json.load(f)\n",
    "    \n",
    "        filename = '/myeosdir/vbf-category/outfiles/'+year+'_'+str(n)+'.coffea'\n",
    "        if os.path.isfile(filename):\n",
    "            out = util.load(filename)\n",
    "            outsum.add(out)\n",
    "        else:\n",
    "            print('Missing file '+str(n),infiles.keys())\n",
    "            #print(\"File \" + filename + \" is missing\")\n",
    "        \n",
    "    scale_lumi = {k: xs[k] * 1000 *lumis[year] / w for k, w in outsum['sumw'].items()}\n",
    "    outsum['cutflow'].scale(scale_lumi, 'dataset')\n",
    "    cutflow = outsum['cutflow'].group('dataset', hist.Cat('process', 'Process'), pmap)\n",
    "\n",
    "    outfile = open(picklename, 'wb')\n",
    "    pickle.dump(cutflow, outfile, protocol=-1)\n",
    "    outfile.close()"
   ]
  },
  {
   "cell_type": "code",
   "execution_count": 16,
   "metadata": {},
   "outputs": [],
   "source": [
    "# Read the histogram from the pickle file\n",
    "templates = pickle.load(open(picklename,'rb'))"
   ]
  },
  {
   "cell_type": "code",
   "execution_count": 17,
   "metadata": {},
   "outputs": [
    {
     "data": {
      "text/plain": [
       "<Hist (process,cut) instance at 0x7ff614422460>"
      ]
     },
     "execution_count": 17,
     "metadata": {},
     "output_type": "execute_result"
    }
   ],
   "source": [
    "cutflow = templates.sum('genflavor').integrate('region','signal')\n",
    "cutflow"
   ]
  },
  {
   "cell_type": "code",
   "execution_count": 18,
   "metadata": {},
   "outputs": [
    {
     "data": {
      "text/plain": [
       "{('ZH',): array([364.87708902, 364.87708902, 364.87708902,  94.04675802,\n",
       "         94.04675802,  89.56093767,  54.63613886,  25.96620918,\n",
       "         19.50533878,  16.5283468 ,  14.30561118,   5.55088631,\n",
       "          0.        ,   0.        ,   0.        ]),\n",
       " ('WH',): array([325.97119887, 325.97119887, 325.97119887,  90.44894466,\n",
       "         90.44894466,  85.73177902,  49.51309033,  28.10041756,\n",
       "         17.63157394,  14.72563217,  11.44041635,   3.50978478,\n",
       "          0.        ,   0.        ,   0.        ]),\n",
       " ('ttH',): array([1156.72913284, 1156.72913284, 1156.72913284,  433.92247017,\n",
       "         433.92247017,  365.44726208,  128.19273077,   43.01119695,\n",
       "          32.94007601,   21.79819751,   21.70239789,    5.73176095,\n",
       "           0.        ,    0.        ,    0.        ]),\n",
       " ('VBF',): array([752.02557417, 752.02557417, 752.02557417,  89.05491792,\n",
       "         89.05491792,  86.40647151,  47.77517252,  39.32086374,\n",
       "         37.31352414,  35.95350003,  32.78736292,  21.36195267,\n",
       "          0.        ,   0.        ,   0.        ]),\n",
       " ('ggF',): array([1751.3456891 , 1751.3456891 , 1751.3456891 ,  246.6296952 ,\n",
       "         246.6296952 ,  232.95447553,  111.78909868,   88.46519963,\n",
       "          85.92934691,   84.04464575,   75.87214395,   48.36391222,\n",
       "           0.        ,    0.        ,    0.        ]),\n",
       " ('ggF-powheg',): array([2594.91259703, 2594.91259703, 2594.91259703,  469.71674073,\n",
       "         469.71674073,  448.59185795,  227.24788147,  185.22537878,\n",
       "         177.39861909,  171.37222905,  155.02325783,   98.92811491,\n",
       "           0.        ,    0.        ,    0.        ]),\n",
       " ('QCD',): array([3.60651817e+08, 3.60651817e+08, 3.60651817e+08, 2.22754765e+07,\n",
       "        2.22754765e+07, 2.05747882e+07, 5.41669387e+06, 4.99940012e+06,\n",
       "        4.89178658e+06, 4.75827269e+06, 3.95762272e+06, 6.40734725e+04,\n",
       "        0.00000000e+00, 0.00000000e+00, 0.00000000e+00]),\n",
       " ('VV',): array([25062.90637034, 25062.90637034, 25062.90637034,  5190.6887479 ,\n",
       "         5190.6887479 ,  4909.60656177,  2840.33782637,  2600.34684075,\n",
       "         1944.18960908,  1524.51088211,  1273.15437701,    55.58894719,\n",
       "            0.        ,     0.        ,     0.        ]),\n",
       " ('Wjets',): array([2.80780267e+06, 2.80780267e+06, 2.80780267e+06, 3.86692231e+05,\n",
       "        3.86692231e+05, 3.48715394e+05, 1.39660930e+05, 1.30090196e+05,\n",
       "        1.15775165e+05, 1.00209795e+05, 8.71505218e+04, 1.83734231e+03,\n",
       "        0.00000000e+00, 0.00000000e+00, 0.00000000e+00]),\n",
       " ('Zjets',): array([984326.2672793 , 984326.2672793 , 984326.2672793 , 165258.60716289,\n",
       "        165258.60716289, 148699.32341587,  67081.99163601,  59950.29789282,\n",
       "         58062.27046841,  42597.62747416,  37646.5527158 ,   2446.02356825,\n",
       "             0.        ,      0.        ,      0.        ]),\n",
       " ('ttbar',): array([928402.87941539, 928402.87941539, 928402.87941539, 228239.85505535,\n",
       "        228239.85505535, 205175.80037292,  70910.69093795,  37855.11339401,\n",
       "         29194.40799433,  20063.65587954,  19518.19842049,   2308.2602193 ,\n",
       "             0.        ,      0.        ,      0.        ]),\n",
       " ('singlet',): array([126586.58703887, 126586.58703887, 126586.58703887,  25606.80208133,\n",
       "         25606.80208133,  23409.52871863,  10801.5999387 ,   5539.43003822,\n",
       "          4307.37740451,   3327.62525199,   3076.40763709,    282.35248582,\n",
       "             0.        ,      0.        ,      0.        ]),\n",
       " ('data',): array([2.10881761e+08, 7.72115550e+07, 7.47537880e+07, 2.07504230e+07,\n",
       "        2.07504230e+07, 1.93360450e+07, 5.20697200e+06, 4.70277500e+06,\n",
       "        4.54883600e+06, 4.37860200e+06, 3.69625100e+06, 5.98570000e+04,\n",
       "        0.00000000e+00, 0.00000000e+00, 0.00000000e+00]),\n",
       " ('muondata',): array([2.9164308e+07, 2.0483120e+06, 1.9910530e+06, 5.2290100e+05,\n",
       "        5.2290100e+05, 4.7709700e+05, 1.4624800e+05, 1.0960800e+05,\n",
       "        9.4965000e+04, 7.8841000e+04, 6.9366000e+04, 4.5060000e+03,\n",
       "        0.0000000e+00, 0.0000000e+00, 0.0000000e+00])}"
      ]
     },
     "execution_count": 18,
     "metadata": {},
     "output_type": "execute_result"
    }
   ],
   "source": [
    "cutflow.values()"
   ]
  },
  {
   "cell_type": "code",
   "execution_count": 19,
   "metadata": {},
   "outputs": [],
   "source": [
    "df1 = pd.DataFrame([])\n",
    "\n",
    "df1['ggF'] = cutflow.values()[('ggF',)]\n",
    "df1['VBF'] = cutflow.values()[('VBF',)]\n",
    "df1['WH'] = cutflow.values()[('WH',)]\n",
    "df1['ZH'] = cutflow.values()[('ZH',)]\n",
    "df1['ttH'] = cutflow.values()[('ttH',)]\n",
    "\n",
    "df1 = df1[3:-3].astype('int')\n",
    "df1.index = ['Jet kinematics','Jet ID','Jet acceptance','Jet $N_2^\\text{DDT}$','Opp. hem. b veto','MET $<$ 140 GeV','No leptons','2 AK4 jets','DeepDoubleB']\n",
    "\n",
    "df1.to_latex(buf=year+'/cutflow-sig.tex')"
   ]
  },
  {
   "cell_type": "code",
   "execution_count": 20,
   "metadata": {},
   "outputs": [],
   "source": [
    "df2 = pd.DataFrame([])\n",
    "\n",
    "df2['QCD'] = cutflow.values()[('QCD',)]\n",
    "df2['Wjets'] = cutflow.values()[('Wjets',)]\n",
    "df2['Zjets'] = cutflow.values()[('Zjets',)]\n",
    "df2['VV'] = cutflow.values()[('VV',)]\n",
    "df2['ttbar'] = cutflow.values()[('ttbar',)]\n",
    "df2['singlet'] = cutflow.values()[('singlet',)]\n",
    "\n",
    "df2 = df2[3:-3].astype('int')\n",
    "df2.index = ['Jet kinematics','Jet ID','Jet acceptance','Jet $N_2^\\text{DDT}$','Opp. hem. b veto','MET $<$ 140 GeV','No leptons','2 AK4 jets','DeepDoubleB']\n",
    "\n",
    "df2.to_latex(buf=year+'/cutflow-bkg.tex')"
   ]
  },
  {
   "cell_type": "code",
   "execution_count": null,
   "metadata": {},
   "outputs": [],
   "source": []
  }
 ],
 "metadata": {
  "kernelspec": {
   "display_name": "Python 3",
   "language": "python",
   "name": "python3"
  },
  "language_info": {
   "codemirror_mode": {
    "name": "ipython",
    "version": 3
   },
   "file_extension": ".py",
   "mimetype": "text/x-python",
   "name": "python",
   "nbconvert_exporter": "python",
   "pygments_lexer": "ipython3",
   "version": "3.8.8"
  }
 },
 "nbformat": 4,
 "nbformat_minor": 2
}

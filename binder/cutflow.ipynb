{
 "cells": [
  {
   "cell_type": "code",
   "execution_count": 1,
   "metadata": {},
   "outputs": [],
   "source": [
    "import os, subprocess\n",
    "import json\n",
    "import uproot\n",
    "import awkward as ak\n",
    "import numpy as np\n",
    "from coffea import processor, util, hist\n",
    "import pandas as pd\n",
    "import pickle"
   ]
  },
  {
   "cell_type": "code",
   "execution_count": 2,
   "metadata": {},
   "outputs": [],
   "source": [
    "lumis = {}\n",
    "lumis['2016'] = 35.9\n",
    "lumis['2017'] = 41.5\n",
    "lumis['2018'] = 59.9\n",
    "\n",
    "with open('xsec.json') as f:\n",
    "  xs = json.load(f)\n",
    "\n",
    "with open('pmap.json') as f:\n",
    "  pmap = json.load(f)"
   ]
  },
  {
   "cell_type": "code",
   "execution_count": 3,
   "metadata": {},
   "outputs": [],
   "source": [
    "year = '2017'\n",
    "nfiles = len(subprocess.getoutput(\"ls infiles-split/\"+year+\"*.json\").split())\n",
    "outsum = processor.dict_accumulator()"
   ]
  },
  {
   "cell_type": "code",
   "execution_count": 4,
   "metadata": {},
   "outputs": [],
   "source": [
    "repickle=True\n",
    "\n",
    "# Check if pickle exists, and don't re-create it if it does\n",
    "picklename = 'pickles/'+str(year)+'_cutflow.pkl'\n",
    "if os.path.isfile(picklename):\n",
    "    repickle=False"
   ]
  },
  {
   "cell_type": "code",
   "execution_count": 5,
   "metadata": {},
   "outputs": [],
   "source": [
    "# Load all files - this takes a while\n",
    "if repickle:\n",
    "    nfiles = len(subprocess.getoutput(\"ls infiles-split/\"+year+\"*.json\").split())\n",
    "    for n in range(1,nfiles+1):\n",
    "\n",
    "        with open('infiles-split/'+year+'_'+str(n)+'.json') as f:\n",
    "            infiles = json.load(f)\n",
    "    \n",
    "        filename = '/myeosdir/vbf-category/outfiles/'+year+'_'+str(n)+'.coffea'\n",
    "        if os.path.isfile(filename):\n",
    "            out = util.load(filename)\n",
    "            outsum.add(out)\n",
    "        else:\n",
    "            print('Missing file '+str(n),infiles.keys())\n",
    "            #print(\"File \" + filename + \" is missing\")\n",
    "        \n",
    "    scale_lumi = {k: xs[k] * 1000 *lumis[year] / w for k, w in outsum['sumw'].items()}\n",
    "    outsum['cutflow'].scale(scale_lumi, 'dataset')\n",
    "    cutflow = outsum['cutflow'].group('dataset', hist.Cat('process', 'Process'), pmap)\n",
    "\n",
    "    outfile = open(picklename, 'wb')\n",
    "    pickle.dump(cutflow, outfile, protocol=-1)\n",
    "    outfile.close()"
   ]
  },
  {
   "cell_type": "code",
   "execution_count": 6,
   "metadata": {},
   "outputs": [],
   "source": [
    "# Read the histogram from the pickle file\n",
    "templates = pickle.load(open(picklename,'rb'))"
   ]
  },
  {
   "cell_type": "code",
   "execution_count": 7,
   "metadata": {},
   "outputs": [
    {
     "data": {
      "text/plain": [
       "<Hist (process,cut) instance at 0x7f2075bdf0a0>"
      ]
     },
     "execution_count": 7,
     "metadata": {},
     "output_type": "execute_result"
    }
   ],
   "source": [
    "cutflow = templates.sum('genflavor').integrate('region','signal')\n",
    "cutflow"
   ]
  },
  {
   "cell_type": "code",
   "execution_count": 8,
   "metadata": {},
   "outputs": [
    {
     "data": {
      "text/plain": [
       "{('ZH',): array([2.41227002e+04, 2.41227002e+04, 2.41227002e+04, 1.07969582e+02,\n",
       "        1.07969582e+02, 1.03299716e+02, 6.27966759e+01, 2.98563201e+01,\n",
       "        2.25627656e+01, 1.91851559e+01, 1.67150935e+01, 6.42435792e+00,\n",
       "        0.00000000e+00, 0.00000000e+00, 0.00000000e+00]),\n",
       " ('WH',): array([2.47459912e+04, 2.47459912e+04, 2.47459912e+04, 1.02358134e+02,\n",
       "        1.02358134e+02, 9.74804318e+01, 5.65834603e+01, 3.19033811e+01,\n",
       "        2.01423922e+01, 1.67454151e+01, 1.30501774e+01, 3.99480873e+00,\n",
       "        0.00000000e+00, 0.00000000e+00, 0.00000000e+00]),\n",
       " ('ttH',): array([1.29382686e+04, 1.29382686e+04, 1.29382686e+04, 4.92626404e+02,\n",
       "        4.92626404e+02, 4.19708001e+02, 1.47617577e+02, 4.96687165e+01,\n",
       "        3.82192608e+01, 2.51782154e+01, 2.50686182e+01, 6.56587666e+00,\n",
       "        0.00000000e+00, 0.00000000e+00, 0.00000000e+00]),\n",
       " ('VBF',): array([9.50826122e+04, 9.50826122e+04, 9.50826122e+04, 1.02765541e+02,\n",
       "        1.02765541e+02, 1.00015447e+02, 5.54427629e+01, 4.55900001e+01,\n",
       "        4.33484167e+01, 4.17403996e+01, 3.80627467e+01, 2.45367461e+01,\n",
       "        0.00000000e+00, 0.00000000e+00, 0.00000000e+00]),\n",
       " ('ggF',): array([7.10433796e+05, 7.10433796e+05, 7.10433796e+05, 2.85845184e+02,\n",
       "        2.85845184e+02, 2.71557106e+02, 1.30259169e+02, 1.03388929e+02,\n",
       "        1.00432566e+02, 9.81023053e+01, 8.87328754e+01, 5.63334917e+01,\n",
       "        0.00000000e+00, 0.00000000e+00, 0.00000000e+00]),\n",
       " ('ggF-powheg',): array([1.24792208e+06, 1.24792208e+06, 1.24792208e+06, 5.39013732e+02,\n",
       "        5.39013732e+02, 5.17055625e+02, 2.60479885e+02, 2.12441157e+02,\n",
       "        2.03685453e+02, 1.97113729e+02, 1.78206232e+02, 1.13132523e+02,\n",
       "        0.00000000e+00, 0.00000000e+00, 0.00000000e+00]),\n",
       " ('QCD',): array([1.55629762e+10, 1.55629762e+10, 1.55629762e+10, 2.60194554e+07,\n",
       "        2.60194554e+07, 2.42390336e+07, 6.38188401e+06, 5.88952477e+06,\n",
       "        5.76808750e+06, 5.61072972e+06, 4.66107681e+06, 7.60340223e+04,\n",
       "        0.00000000e+00, 0.00000000e+00, 0.00000000e+00]),\n",
       " ('VV',): array([4.93034254e+06, 4.93034254e+06, 4.93034254e+06, 5.89878071e+03,\n",
       "        5.89878071e+03, 5.60994530e+03, 3.25324590e+03, 2.97680914e+03,\n",
       "        2.23248453e+03, 1.75086666e+03, 1.46658611e+03, 6.34011442e+01,\n",
       "        0.00000000e+00, 0.00000000e+00, 0.00000000e+00]),\n",
       " ('Wjets',): array([4.53476557e+07, 4.53476557e+07, 4.53476557e+07, 4.56034056e+05,\n",
       "        4.56034056e+05, 4.15015320e+05, 1.66825887e+05, 1.55364462e+05,\n",
       "        1.38981111e+05, 1.20677821e+05, 1.04855416e+05, 2.19171404e+03,\n",
       "        0.00000000e+00, 0.00000000e+00, 0.00000000e+00]),\n",
       " ('Zjets',): array([1.22440754e+07, 1.22440754e+07, 1.22440754e+07, 2.09821158e+05,\n",
       "        2.09821158e+05, 1.90605877e+05, 8.54766888e+04, 7.62971305e+04,\n",
       "        7.40094607e+04, 5.60864234e+04, 4.94808763e+04, 3.24472959e+03,\n",
       "        0.00000000e+00, 0.00000000e+00, 0.00000000e+00]),\n",
       " ('ttbar',): array([3.64738597e+07, 3.64738597e+07, 3.64738597e+07, 2.62833906e+05,\n",
       "        2.62833906e+05, 2.38197308e+05, 8.29878220e+04, 4.43210701e+04,\n",
       "        3.43284015e+04, 2.34402459e+04, 2.28239425e+04, 2.69878131e+03,\n",
       "        0.00000000e+00, 0.00000000e+00, 0.00000000e+00]),\n",
       " ('singlet',): array([1.25761751e+07, 1.25761751e+07, 1.25761751e+07, 2.91579941e+04,\n",
       "        2.91579941e+04, 2.68580136e+04, 1.24062037e+04, 6.35884164e+03,\n",
       "        4.97287826e+03, 3.83043937e+03, 3.54319770e+03, 3.19663724e+02,\n",
       "        0.00000000e+00, 0.00000000e+00, 0.00000000e+00]),\n",
       " ('data',): array([2.10881761e+08, 7.72115550e+07, 7.47537880e+07, 2.07504230e+07,\n",
       "        2.07504230e+07, 1.93360450e+07, 5.20697200e+06, 4.70277500e+06,\n",
       "        4.54883600e+06, 4.37860200e+06, 3.69625100e+06, 5.98570000e+04,\n",
       "        0.00000000e+00, 0.00000000e+00, 0.00000000e+00]),\n",
       " ('muondata',): array([2.9164308e+07, 2.0483120e+06, 1.9910530e+06, 5.2290100e+05,\n",
       "        5.2290100e+05, 4.7709700e+05, 1.4624800e+05, 1.0960800e+05,\n",
       "        9.4965000e+04, 7.8841000e+04, 6.9366000e+04, 4.5060000e+03,\n",
       "        0.0000000e+00, 0.0000000e+00, 0.0000000e+00])}"
      ]
     },
     "execution_count": 8,
     "metadata": {},
     "output_type": "execute_result"
    }
   ],
   "source": [
    "cutflow.values()"
   ]
  },
  {
   "cell_type": "code",
   "execution_count": 9,
   "metadata": {},
   "outputs": [],
   "source": [
    "df1 = pd.DataFrame([])\n",
    "\n",
    "df1['ggF'] = cutflow.values()[('ggF',)]\n",
    "df1['VBF'] = cutflow.values()[('VBF',)]\n",
    "df1['WH'] = cutflow.values()[('WH',)]\n",
    "df1['ZH'] = cutflow.values()[('ZH',)]\n",
    "df1['ttH'] = cutflow.values()[('ttH',)]\n",
    "\n",
    "df1 = df1[3:-3].astype('int')\n",
    "df1.index = ['Jet kinematics','Jet ID','Jet acceptance','Jet $N_2^\\text{DDT}$','Opp. hem. b veto','MET $<$ 140 GeV','No leptons','2 AK4 jets','DeepDoubleB']\n",
    "\n",
    "df1.to_latex(buf=year+'/cutflow-sig.tex')"
   ]
  },
  {
   "cell_type": "code",
   "execution_count": 10,
   "metadata": {},
   "outputs": [],
   "source": [
    "df2 = pd.DataFrame([])\n",
    "\n",
    "df2['QCD'] = cutflow.values()[('QCD',)]\n",
    "df2['Wjets'] = cutflow.values()[('Wjets',)]\n",
    "df2['Zjets'] = cutflow.values()[('Zjets',)]\n",
    "df2['VV'] = cutflow.values()[('VV',)]\n",
    "df2['ttbar'] = cutflow.values()[('ttbar',)]\n",
    "df2['singlet'] = cutflow.values()[('singlet',)]\n",
    "\n",
    "df2 = df2[3:-3].astype('int')\n",
    "df2.index = ['Jet kinematics','Jet ID','Jet acceptance','Jet $N_2^\\text{DDT}$','Opp. hem. b veto','MET $<$ 140 GeV','No leptons','2 AK4 jets','DeepDoubleB']\n",
    "\n",
    "df2.to_latex(buf=year+'/cutflow-bkg.tex')"
   ]
  },
  {
   "cell_type": "code",
   "execution_count": null,
   "metadata": {},
   "outputs": [],
   "source": []
  }
 ],
 "metadata": {
  "kernelspec": {
   "display_name": "Python 3",
   "language": "python",
   "name": "python3"
  },
  "language_info": {
   "codemirror_mode": {
    "name": "ipython",
    "version": 3
   },
   "file_extension": ".py",
   "mimetype": "text/x-python",
   "name": "python",
   "nbconvert_exporter": "python",
   "pygments_lexer": "ipython3",
   "version": "3.8.8"
  }
 },
 "nbformat": 4,
 "nbformat_minor": 2
}

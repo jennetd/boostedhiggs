{
 "cells": [
  {
   "cell_type": "code",
   "execution_count": 11,
   "metadata": {},
   "outputs": [],
   "source": [
    "import os, subprocess\n",
    "import json\n",
    "import uproot\n",
    "import awkward as ak\n",
    "import numpy as np\n",
    "from coffea import processor, util, hist\n",
    "import pandas as pd\n",
    "import pickle"
   ]
  },
  {
   "cell_type": "code",
   "execution_count": 12,
   "metadata": {},
   "outputs": [],
   "source": [
    "lumis = {}\n",
    "lumis['2016'] = 35.9\n",
    "lumis['2017'] = 41.5\n",
    "lumis['2018'] = 59.9\n",
    "\n",
    "with open('xsec.json') as f:\n",
    "  xs = json.load(f)\n",
    "\n",
    "with open('pmap.json') as f:\n",
    "  pmap = json.load(f)"
   ]
  },
  {
   "cell_type": "code",
   "execution_count": 13,
   "metadata": {},
   "outputs": [],
   "source": [
    "year = '2017'\n",
    "nfiles = len(subprocess.getoutput(\"ls infiles-split/\"+year+\"*.json\").split())\n",
    "outsum = processor.dict_accumulator()"
   ]
  },
  {
   "cell_type": "code",
   "execution_count": 14,
   "metadata": {},
   "outputs": [],
   "source": [
    "repickle=True\n",
    "\n",
    "# Check if pickle exists, and don't re-create it if it does\n",
    "picklename = 'pickles/'+str(year)+'_cutflow.pkl'\n",
    "if os.path.isfile(picklename):\n",
    "    repickle=False"
   ]
  },
  {
   "cell_type": "code",
   "execution_count": 15,
   "metadata": {},
   "outputs": [
    {
     "name": "stdout",
     "output_type": "stream",
     "text": [
      "Missing file 2416 dict_keys(['WJetsToLNu_HT-800To1200_TuneCP5_13TeV-madgraphMLM-pythia8'])\n"
     ]
    },
    {
     "name": "stderr",
     "output_type": "stream",
     "text": [
      "/opt/conda/lib/python3.8/site-packages/coffea/hist/hist_tools.py:376: RuntimeWarning: Not all requested indices present in <Cat (name=dataset) instance at 0x7fe2b4f85d90>\n",
      "  warnings.warn(\n"
     ]
    }
   ],
   "source": [
    "# Load all files - this takes a while\n",
    "if repickle:\n",
    "    nfiles = len(subprocess.getoutput(\"ls infiles-split/\"+year+\"*.json\").split())\n",
    "    for n in range(1,nfiles+1):\n",
    "\n",
    "        with open('infiles-split/'+year+'_'+str(n)+'.json') as f:\n",
    "            infiles = json.load(f)\n",
    "    \n",
    "        filename = '/myeosdir/vbf-category/outfiles/'+year+'_'+str(n)+'.coffea'\n",
    "        if os.path.isfile(filename):\n",
    "            out = util.load(filename)\n",
    "            outsum.add(out)\n",
    "        else:\n",
    "            print('Missing file '+str(n),infiles.keys())\n",
    "            #print(\"File \" + filename + \" is missing\")\n",
    "        \n",
    "    scale_lumi = {k: xs[k] * 1000 *lumis[year] / w for k, w in outsum['sumw'].items()}\n",
    "    outsum['cutflow'].scale(scale_lumi, 'dataset')\n",
    "    cutflow = outsum['cutflow'].group('dataset', hist.Cat('process', 'Process'), pmap)\n",
    "\n",
    "    outfile = open(picklename, 'wb')\n",
    "    pickle.dump(cutflow, outfile, protocol=-1)\n",
    "    outfile.close()"
   ]
  },
  {
   "cell_type": "code",
   "execution_count": 16,
   "metadata": {},
   "outputs": [],
   "source": [
    "# Read the histogram from the pickle file\n",
    "templates = pickle.load(open(picklename,'rb'))"
   ]
  },
  {
   "cell_type": "code",
   "execution_count": 20,
   "metadata": {},
   "outputs": [
    {
     "data": {
      "text/plain": [
       "<Hist (process,cut) instance at 0x7fe257efae80>"
      ]
     },
     "execution_count": 20,
     "metadata": {},
     "output_type": "execute_result"
    }
   ],
   "source": [
    "cutflow = templates.sum('genflavor').integrate('region','signal')\n",
    "cutflow"
   ]
  },
  {
   "cell_type": "code",
   "execution_count": 22,
   "metadata": {},
   "outputs": [
    {
     "data": {
      "text/plain": [
       "{('ZH',): array([2.21747298e+04, 2.21747298e+04, 2.21747298e+04, 9.49852519e+01,\n",
       "        9.49852519e+01, 9.04880892e+01, 5.51967709e+01, 2.62442052e+01,\n",
       "        1.97360044e+01, 1.67392741e+01, 1.45005465e+01, 5.61619252e+00,\n",
       "        0.00000000e+00, 0.00000000e+00, 0.00000000e+00]),\n",
       " ('WH',): array([2.30628496e+04, 2.30628496e+04, 2.30628496e+04, 9.13654428e+01,\n",
       "        9.13654428e+01, 8.66382904e+01, 5.00761613e+01, 2.83562475e+01,\n",
       "        1.78139051e+01, 1.48700475e+01, 1.15584566e+01, 3.55353679e+00,\n",
       "        0.00000000e+00, 0.00000000e+00, 0.00000000e+00]),\n",
       " ('ttH',): array([8.62415990e+03, 8.62415990e+03, 8.62415990e+03, 4.38370048e+02,\n",
       "        4.38370048e+02, 3.69531134e+02, 1.29608221e+02, 4.34946785e+01,\n",
       "        3.33283340e+01, 2.20512537e+01, 2.19544867e+01, 5.79109185e+00,\n",
       "        0.00000000e+00, 0.00000000e+00, 0.00000000e+00]),\n",
       " ('VBF',): array([8.95949424e+04, 8.95949424e+04, 8.95949424e+04, 9.00969471e+01,\n",
       "        9.00969471e+01, 8.74344454e+01, 4.83479656e+01, 3.97708020e+01,\n",
       "        3.77616184e+01, 3.63824112e+01, 3.31724924e+01, 2.15747298e+01,\n",
       "        0.00000000e+00, 0.00000000e+00, 0.00000000e+00]),\n",
       " ('ggF',): array([6.97265990e+05, 6.97265990e+05, 6.97265990e+05, 2.49473491e+02,\n",
       "        2.49473491e+02, 2.35794601e+02, 1.13203289e+02, 8.96059477e+01,\n",
       "        8.70678054e+01, 8.51064967e+01, 7.68510757e+01, 4.88716345e+01,\n",
       "        0.00000000e+00, 0.00000000e+00, 0.00000000e+00]),\n",
       " ('ggF-powheg',): array([1.23071245e+06, 1.23071245e+06, 1.23071245e+06, 4.74469564e+02,\n",
       "        4.74469564e+02, 4.53292539e+02, 2.29594897e+02, 1.87131535e+02,\n",
       "        1.79219918e+02, 1.73200750e+02, 1.56711674e+02, 1.00037771e+02,\n",
       "        0.00000000e+00, 0.00000000e+00, 0.00000000e+00]),\n",
       " ('QCD',): array([1.20511083e+10, 1.20511083e+10, 1.20511083e+10, 2.25557010e+07,\n",
       "        2.25557010e+07, 2.08492391e+07, 5.48909419e+06, 5.06631585e+06,\n",
       "        4.95778106e+06, 4.82251935e+06, 4.01063109e+06, 6.50164085e+04,\n",
       "        0.00000000e+00, 0.00000000e+00, 0.00000000e+00]),\n",
       " ('VV',): array([4.78869966e+06, 4.78869966e+06, 4.78869966e+06, 5.24244763e+03,\n",
       "        5.24244763e+03, 4.96111542e+03, 2.87078056e+03, 2.62780588e+03,\n",
       "        1.96492589e+03, 1.54199769e+03, 1.28793570e+03, 5.59711787e+01,\n",
       "        0.00000000e+00, 0.00000000e+00, 0.00000000e+00]),\n",
       " ('Wjets',): array([2.62844711e+07, 2.62844711e+07, 2.62844711e+07, 4.03266730e+05,\n",
       "        4.03266730e+05, 3.63552509e+05, 1.45618380e+05, 1.35618502e+05,\n",
       "        1.21069120e+05, 1.05163948e+05, 9.14652645e+04, 1.92285790e+03,\n",
       "        0.00000000e+00, 0.00000000e+00, 0.00000000e+00]),\n",
       " ('Zjets',): array([5.67927608e+06, 5.67927608e+06, 5.67927608e+06, 1.86159345e+05,\n",
       "        1.86159345e+05, 1.67557916e+05, 7.49905754e+04, 6.69469713e+04,\n",
       "        6.48806158e+04, 4.90246005e+04, 4.33015034e+04, 2.83174712e+03,\n",
       "        0.00000000e+00, 0.00000000e+00, 0.00000000e+00]),\n",
       " ('ttbar',): array([3.14403016e+07, 3.14403016e+07, 3.14403016e+07, 2.30942155e+05,\n",
       "        2.30942155e+05, 2.07748741e+05, 7.18442588e+04, 3.83609727e+04,\n",
       "        2.95995818e+04, 2.03276923e+04, 1.97774579e+04, 2.33959629e+03,\n",
       "        0.00000000e+00, 0.00000000e+00, 0.00000000e+00]),\n",
       " ('singlet',): array([1.18242234e+07, 1.18242234e+07, 1.18242234e+07, 2.58721398e+04,\n",
       "        2.58721398e+04, 2.36682098e+04, 1.09238425e+04, 5.60191690e+03,\n",
       "        4.35932140e+03, 3.36617415e+03, 3.11277491e+03, 2.84173480e+02,\n",
       "        0.00000000e+00, 0.00000000e+00, 0.00000000e+00]),\n",
       " ('data',): array([2.10881761e+08, 7.72115550e+07, 7.47537880e+07, 2.07504230e+07,\n",
       "        2.07504230e+07, 1.93360450e+07, 5.20697200e+06, 4.70277500e+06,\n",
       "        4.54883600e+06, 4.37860200e+06, 3.69625100e+06, 5.98570000e+04,\n",
       "        0.00000000e+00, 0.00000000e+00, 0.00000000e+00]),\n",
       " ('muondata',): array([2.9164308e+07, 2.0483120e+06, 1.9910530e+06, 5.2290100e+05,\n",
       "        5.2290100e+05, 4.7709700e+05, 1.4624800e+05, 1.0960800e+05,\n",
       "        9.4965000e+04, 7.8841000e+04, 6.9366000e+04, 4.5060000e+03,\n",
       "        0.0000000e+00, 0.0000000e+00, 0.0000000e+00])}"
      ]
     },
     "execution_count": 22,
     "metadata": {},
     "output_type": "execute_result"
    }
   ],
   "source": [
    "cutflow.values()"
   ]
  },
  {
   "cell_type": "code",
   "execution_count": 23,
   "metadata": {},
   "outputs": [],
   "source": [
    "df1 = pd.DataFrame([])\n",
    "\n",
    "df1['ggF'] = cutflow.values()[('ggF',)]\n",
    "df1['VBF'] = cutflow.values()[('VBF',)]\n",
    "df1['WH'] = cutflow.values()[('WH',)]\n",
    "df1['ZH'] = cutflow.values()[('ZH',)]\n",
    "#df1['ttH'] = cutflow.values()[('ttH',)]\n",
    "\n",
    "df1 = df1[3:-3].astype('int')\n",
    "df1.index = ['Jet kinematics','Jet ID','Jet acceptance','Jet $N_2^\\text{DDT}$','Opp. hem. b veto','MET $<$ 140 GeV','No leptons','2 AK4 jets','DeepDoubleB']\n",
    "\n",
    "df1.to_latex(buf=year+'/cutflow-sig.tex')"
   ]
  },
  {
   "cell_type": "code",
   "execution_count": 26,
   "metadata": {},
   "outputs": [
    {
     "name": "stdout",
     "output_type": "stream",
     "text": [
      "             QCD         Wjets         Zjets            VV         ttbar  \\\n",
      "0   1.205111e+10  2.628447e+07  5.679276e+06  4.788700e+06  3.144030e+07   \n",
      "1   1.205111e+10  2.628447e+07  5.679276e+06  4.788700e+06  3.144030e+07   \n",
      "2   1.205111e+10  2.628447e+07  5.679276e+06  4.788700e+06  3.144030e+07   \n",
      "3   2.255570e+07  4.032667e+05  1.861593e+05  5.242448e+03  2.309422e+05   \n",
      "4   2.255570e+07  4.032667e+05  1.861593e+05  5.242448e+03  2.309422e+05   \n",
      "5   2.084924e+07  3.635525e+05  1.675579e+05  4.961115e+03  2.077487e+05   \n",
      "6   5.489094e+06  1.456184e+05  7.499058e+04  2.870781e+03  7.184426e+04   \n",
      "7   5.066316e+06  1.356185e+05  6.694697e+04  2.627806e+03  3.836097e+04   \n",
      "8   4.957781e+06  1.210691e+05  6.488062e+04  1.964926e+03  2.959958e+04   \n",
      "9   4.822519e+06  1.051639e+05  4.902460e+04  1.541998e+03  2.032769e+04   \n",
      "10  4.010631e+06  9.146526e+04  4.330150e+04  1.287936e+03  1.977746e+04   \n",
      "11  6.501641e+04  1.922858e+03  2.831747e+03  5.597118e+01  2.339596e+03   \n",
      "12  0.000000e+00  0.000000e+00  0.000000e+00  0.000000e+00  0.000000e+00   \n",
      "13  0.000000e+00  0.000000e+00  0.000000e+00  0.000000e+00  0.000000e+00   \n",
      "14  0.000000e+00  0.000000e+00  0.000000e+00  0.000000e+00  0.000000e+00   \n",
      "\n",
      "         singlet  \n",
      "0   1.182422e+07  \n",
      "1   1.182422e+07  \n",
      "2   1.182422e+07  \n",
      "3   2.587214e+04  \n",
      "4   2.587214e+04  \n",
      "5   2.366821e+04  \n",
      "6   1.092384e+04  \n",
      "7   5.601917e+03  \n",
      "8   4.359321e+03  \n",
      "9   3.366174e+03  \n",
      "10  3.112775e+03  \n",
      "11  2.841735e+02  \n",
      "12  0.000000e+00  \n",
      "13  0.000000e+00  \n",
      "14  0.000000e+00  \n"
     ]
    }
   ],
   "source": [
    "df2 = pd.DataFrame([])\n",
    "\n",
    "df2['QCD'] = cutflow.values()[('QCD',)]\n",
    "df2['Wjets'] = cutflow.values()[('Wjets',)]\n",
    "df2['Zjets'] = cutflow.values()[('Zjets',)]\n",
    "df2['VV'] = cutflow.values()[('VV',)]\n",
    "df2['ttbar'] = cutflow.values()[('ttbar',)]\n",
    "df2['singlet'] = cutflow.values()[('singlet',)]\n",
    "\n",
    "df2 = df2[3:-3].astype('int')\n",
    "df2.index = ['Jet kinematics','Jet ID','Jet acceptance','Jet $N_2^\\text{DDT}$','Opp. hem. b veto','MET $<$ 140 GeV','No leptons','2 AK4 jets','DeepDoubleB']\n",
    "\n",
    "df2.to_latex(buf=year+'/cutflow-bkg.tex')"
   ]
  },
  {
   "cell_type": "code",
   "execution_count": null,
   "metadata": {},
   "outputs": [],
   "source": []
  }
 ],
 "metadata": {
  "kernelspec": {
   "display_name": "Python 3",
   "language": "python",
   "name": "python3"
  },
  "language_info": {
   "codemirror_mode": {
    "name": "ipython",
    "version": 3
   },
   "file_extension": ".py",
   "mimetype": "text/x-python",
   "name": "python",
   "nbconvert_exporter": "python",
   "pygments_lexer": "ipython3",
   "version": "3.8.8"
  }
 },
 "nbformat": 4,
 "nbformat_minor": 2
}

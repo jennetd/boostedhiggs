{
 "cells": [
  {
   "cell_type": "code",
   "execution_count": 6,
   "metadata": {},
   "outputs": [],
   "source": [
    "import os, subprocess\n",
    "import json\n",
    "import uproot\n",
    "import awkward as ak\n",
    "import numpy as np\n",
    "from coffea import processor, util, hist\n",
    "import pandas as pd\n",
    "import pickle"
   ]
  },
  {
   "cell_type": "code",
   "execution_count": 7,
   "metadata": {},
   "outputs": [],
   "source": [
    "lumis = {}\n",
    "lumis['2016'] = 35.9\n",
    "lumis['2017'] = 41.5\n",
    "lumis['2018'] = 59.9\n",
    "\n",
    "with open('xsec.json') as f:\n",
    "  xs = json.load(f)\n",
    "\n",
    "with open('pmap.json') as f:\n",
    "  pmap = json.load(f)"
   ]
  },
  {
   "cell_type": "code",
   "execution_count": 8,
   "metadata": {},
   "outputs": [],
   "source": [
    "year = '2017'\n",
    "nfiles = len(subprocess.getoutput(\"ls infiles-split/\"+year+\"*.json\").split())\n",
    "outsum = processor.dict_accumulator()"
   ]
  },
  {
   "cell_type": "code",
   "execution_count": 9,
   "metadata": {},
   "outputs": [],
   "source": [
    "repickle=True\n",
    "\n",
    "# Check if pickle exists, and don't re-create it if it does\n",
    "picklename = 'pickles/'+year+'_cutflow.pkl'\n",
    "if os.path.isfile(picklename):\n",
    "    repickle=False"
   ]
  },
  {
   "cell_type": "code",
   "execution_count": 10,
   "metadata": {},
   "outputs": [
    {
     "name": "stdout",
     "output_type": "stream",
     "text": [
      "Missing file 2416 dict_keys(['WJetsToLNu_HT-800To1200_TuneCP5_13TeV-madgraphMLM-pythia8'])\n"
     ]
    },
    {
     "name": "stderr",
     "output_type": "stream",
     "text": [
      "/opt/conda/lib/python3.8/site-packages/coffea/hist/hist_tools.py:376: RuntimeWarning: Not all requested indices present in <Cat (name=dataset) instance at 0x7f13c541a490>\n",
      "  warnings.warn(\n"
     ]
    }
   ],
   "source": [
    "# Load all files - this takes a while\n",
    "if repickle:\n",
    "    nfiles = len(subprocess.getoutput(\"ls infiles-split/\"+year+\"*.json\").split())\n",
    "    for n in range(1,nfiles+1):\n",
    "\n",
    "        with open('infiles-split/'+year+'_'+str(n)+'.json') as f:\n",
    "            infiles = json.load(f)\n",
    "    \n",
    "        filename = '/myeosdir/vh-category/outfiles/'+year+'_'+str(n)+'.coffea'\n",
    "        #filename = 'outfiles/'+year+'_'+str(n)+'.coffea'\n",
    "        if os.path.isfile(filename):\n",
    "            out = util.load(filename)\n",
    "            outsum.add(out)\n",
    "        else:\n",
    "            print('Missing file '+str(n),infiles.keys())\n",
    "            #print(\"File \" + filename + \" is missing\")\n",
    "        \n",
    "    scale_lumi = {k: xs[k] * 1000 *lumis[year] / w for k, w in outsum['sumw'].items()}\n",
    "    outsum['cutflow'].scale(scale_lumi, 'dataset')\n",
    "    \n",
    "    # Use pmap to group the datasets together\n",
    "    cutflow = outsum['cutflow'].group('dataset', hist.Cat('process', 'Process'), pmap)\n",
    "\n",
    "    outfile = open(picklename, 'wb')\n",
    "    pickle.dump(cutflow, outfile, protocol=-1)\n",
    "    outfile.close()"
   ]
  },
  {
   "cell_type": "code",
   "execution_count": 11,
   "metadata": {},
   "outputs": [],
   "source": [
    "# Read the histogram from the pickle file\n",
    "cutflow = pickle.load(open(picklename,'rb')).sum('genflavor').integrate('region','signal')"
   ]
  },
  {
   "cell_type": "code",
   "execution_count": 12,
   "metadata": {},
   "outputs": [
    {
     "data": {
      "text/plain": [
       "{('ZH',): array([2.21744089e+04, 2.21744089e+04, 2.21744089e+04, 9.48982371e+01,\n",
       "        4.03949744e+01, 4.03949744e+01, 3.73694584e+01, 1.36726420e+01,\n",
       "        5.14016894e+00, 4.77353854e+00, 4.23624421e+00, 2.08523169e+00,\n",
       "        0.00000000e+00, 0.00000000e+00, 0.00000000e+00]),\n",
       " ('WH',): array([2.30625891e+04, 2.30625891e+04, 2.30625891e+04, 9.13200063e+01,\n",
       "        3.96660728e+01, 3.96660728e+01, 3.61223798e+01, 1.21142667e+01,\n",
       "        5.31856405e+00, 4.88749772e+00, 4.65734800e+00, 2.23229621e+00,\n",
       "        0.00000000e+00, 0.00000000e+00, 0.00000000e+00]),\n",
       " ('ttH',): array([8.62351233e+03, 8.62351233e+03, 8.62351233e+03, 4.38075193e+02,\n",
       "        1.84986424e+02, 1.84986424e+02, 1.28764881e+02, 1.46393429e+01,\n",
       "        4.52636545e+00, 3.56481177e+00, 2.34962050e+00, 7.02924380e-01,\n",
       "        0.00000000e+00, 0.00000000e+00, 0.00000000e+00]),\n",
       " ('VBF',): array([8.95945083e+04, 8.95945083e+04, 8.95945083e+04, 8.99895876e+01,\n",
       "        2.35016752e+01, 2.35016752e+01, 2.14525623e+01, 4.44142752e+00,\n",
       "        2.16937910e+00, 2.05684477e+00, 1.96217175e+00, 9.00743102e-01,\n",
       "        0.00000000e+00, 0.00000000e+00, 0.00000000e+00]),\n",
       " ('ggF',): array([6.97265174e+05, 6.97265174e+05, 6.97265174e+05, 2.49351446e+02,\n",
       "        7.63806672e+01, 7.63806672e+01, 6.77774720e+01, 9.59591215e+00,\n",
       "        5.77251721e+00, 5.61444781e+00, 5.42675188e+00, 2.82119815e+00,\n",
       "        0.00000000e+00, 0.00000000e+00, 0.00000000e+00]),\n",
       " ('ggF-powheg',): array([1.23071107e+06, 1.23071107e+06, 1.23071107e+06, 4.74075788e+02,\n",
       "        1.60723511e+02, 1.60723511e+02, 1.43246039e+02, 2.22228978e+01,\n",
       "        1.15680272e+01, 1.14302938e+01, 1.13119293e+01, 6.02387330e+00,\n",
       "        0.00000000e+00, 0.00000000e+00, 0.00000000e+00]),\n",
       " ('QCD',): array([1.20510751e+10, 1.20510751e+10, 1.20510751e+10, 2.25501451e+07,\n",
       "        6.23633760e+06, 6.23633760e+06, 5.35363269e+06, 3.02856255e+05,\n",
       "        2.74482065e+05, 2.70219724e+05, 2.62804648e+05, 3.73182526e+03,\n",
       "        0.00000000e+00, 0.00000000e+00, 0.00000000e+00]),\n",
       " ('VV',): array([4.78869159e+06, 4.78869159e+06, 4.78869159e+06, 5.23987796e+03,\n",
       "        1.65006246e+03, 1.65006246e+03, 1.48918243e+03, 4.41388600e+02,\n",
       "        3.86177147e+02, 3.69861133e+02, 3.13158906e+02, 1.67872175e+01,\n",
       "        0.00000000e+00, 0.00000000e+00, 0.00000000e+00]),\n",
       " ('Wjets',): array([2.62840128e+07, 2.62840128e+07, 2.62840128e+07, 4.03171416e+05,\n",
       "        1.09703812e+05, 1.09703812e+05, 8.88900680e+04, 1.09814273e+04,\n",
       "        1.00769142e+04, 9.52878545e+03, 8.39290662e+03, 1.48993453e+02,\n",
       "        0.00000000e+00, 0.00000000e+00, 0.00000000e+00]),\n",
       " ('Zjets',): array([5.67857276e+06, 5.67857276e+06, 5.67857276e+06, 1.86025483e+05,\n",
       "        5.61503331e+04, 5.61503331e+04, 4.54271692e+04, 6.04810206e+03,\n",
       "        5.16064579e+03, 5.02660913e+03, 3.93514205e+03, 2.07819861e+02,\n",
       "        0.00000000e+00, 0.00000000e+00, 0.00000000e+00]),\n",
       " ('ttbar',): array([3.14399058e+07, 3.14399058e+07, 3.14399058e+07, 2.30813363e+05,\n",
       "        9.38906951e+04, 9.38906951e+04, 7.77985421e+04, 9.92890961e+03,\n",
       "        4.77648580e+03, 4.12846620e+03, 2.84870681e+03, 3.43338275e+02,\n",
       "        0.00000000e+00, 0.00000000e+00, 0.00000000e+00]),\n",
       " ('singlet',): array([1.18241034e+07, 1.18241034e+07, 1.18241034e+07, 2.58303826e+04,\n",
       "        8.04940367e+03, 8.04940367e+03, 6.66383131e+03, 1.29518902e+03,\n",
       "        6.71758704e+02, 5.92909062e+02, 4.67595881e+02, 4.34129640e+01,\n",
       "        0.00000000e+00, 0.00000000e+00, 0.00000000e+00]),\n",
       " ('data',): array([2.10881761e+08, 7.72115550e+07, 7.47537880e+07, 2.07504230e+07,\n",
       "        5.66688300e+06, 5.66688300e+06, 4.92280100e+06, 2.88007000e+05,\n",
       "        2.54937000e+05, 2.48948000e+05, 2.38782000e+05, 3.84500000e+03,\n",
       "        0.00000000e+00, 0.00000000e+00, 0.00000000e+00]),\n",
       " ('muondata',): array([2.9164308e+07, 2.0483120e+06, 1.9910530e+06, 5.2290100e+05,\n",
       "        1.4466000e+05, 1.4466000e+05, 1.2014900e+05, 1.0634000e+04,\n",
       "        7.1520000e+03, 6.3580000e+03, 4.9770000e+03, 3.2300000e+02,\n",
       "        0.0000000e+00, 0.0000000e+00, 0.0000000e+00])}"
      ]
     },
     "execution_count": 12,
     "metadata": {},
     "output_type": "execute_result"
    }
   ],
   "source": [
    "cutflow.values()"
   ]
  },
  {
   "cell_type": "code",
   "execution_count": 13,
   "metadata": {},
   "outputs": [],
   "source": [
    "df1 = pd.DataFrame([])\n",
    "\n",
    "df1['ggF'] = cutflow.values()[('ggF',)]\n",
    "df1['VBF'] = cutflow.values()[('VBF',)]\n",
    "df1['WH'] = cutflow.values()[('WH',)]\n",
    "df1['ZH'] = cutflow.values()[('ZH',)]\n",
    "df1['ttH'] = cutflow.values()[('ttH',)]\n",
    "\n",
    "df1 = df1[3:-3].astype('int')\n",
    "df1.index = ['Jet 1 kinematics','Jet 2 kinematics','Jet ID','Jet acceptance','Jet $N_2^\\text{DDT}$','Opp. hem. b veto','MET $<$ 140 GeV','No leptons','DeepDoubleB']\n",
    "\n",
    "df1.to_latex(buf=year+'/cutflow-sig.tex')"
   ]
  },
  {
   "cell_type": "code",
   "execution_count": 14,
   "metadata": {},
   "outputs": [],
   "source": [
    "df2 = pd.DataFrame([])\n",
    "\n",
    "df2['QCD'] = cutflow.values()[('QCD',)]\n",
    "df2['Wjets'] = cutflow.values()[('Wjets',)]\n",
    "df2['Zjets'] = cutflow.values()[('Zjets',)]\n",
    "df2['VV'] = cutflow.values()[('VV',)]\n",
    "df2['ttbar'] = cutflow.values()[('ttbar',)]\n",
    "df2['singlet'] = cutflow.values()[('singlet',)]\n",
    "\n",
    "df2 = df2[3:-3].astype('int')\n",
    "df2.index = ['Jet 1 kinematics','Jet 2 kinematics','Jet ID','Jet acceptance','Jet $N_2^\\text{DDT}$','Opp. hem. b veto','MET $<$ 140 GeV','No leptons','DeepDoubleB']\n",
    "\n",
    "df2.to_latex(buf=year+'/cutflow-bkg.tex')"
   ]
  },
  {
   "cell_type": "code",
   "execution_count": null,
   "metadata": {},
   "outputs": [],
   "source": []
  }
 ],
 "metadata": {
  "kernelspec": {
   "display_name": "Python 3",
   "language": "python",
   "name": "python3"
  },
  "language_info": {
   "codemirror_mode": {
    "name": "ipython",
    "version": 3
   },
   "file_extension": ".py",
   "mimetype": "text/x-python",
   "name": "python",
   "nbconvert_exporter": "python",
   "pygments_lexer": "ipython3",
   "version": "3.8.8"
  }
 },
 "nbformat": 4,
 "nbformat_minor": 2
}

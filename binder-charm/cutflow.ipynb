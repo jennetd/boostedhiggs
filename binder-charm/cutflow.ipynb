{
 "cells": [
  {
   "cell_type": "code",
   "execution_count": 1,
   "metadata": {},
   "outputs": [],
   "source": [
    "import os, subprocess\n",
    "import json\n",
    "import uproot\n",
    "import awkward as ak\n",
    "import numpy as np\n",
    "from coffea import processor, util, hist\n",
    "import pandas as pd\n",
    "import pickle"
   ]
  },
  {
   "cell_type": "code",
   "execution_count": 2,
   "metadata": {},
   "outputs": [],
   "source": [
    "lumis = {}\n",
    "lumis['2016'] = 35.9\n",
    "lumis['2017'] = 41.5\n",
    "lumis['2018'] = 59.9\n",
    "\n",
    "with open('xsec.json') as f:\n",
    "  xs = json.load(f)\n",
    "\n",
    "with open('pmap.json') as f:\n",
    "  pmap = json.load(f)"
   ]
  },
  {
   "cell_type": "code",
   "execution_count": 3,
   "metadata": {},
   "outputs": [],
   "source": [
    "year = '2017'\n",
    "nfiles = len(subprocess.getoutput(\"ls infiles-split/\"+year+\"*.json\").split())\n",
    "outsum = processor.dict_accumulator()"
   ]
  },
  {
   "cell_type": "code",
   "execution_count": 4,
   "metadata": {},
   "outputs": [],
   "source": [
    "repickle=True\n",
    "\n",
    "# Check if pickle exists, and don't re-create it if it does\n",
    "picklename = 'pickles/'+str(year)+'_cutflow.pkl'\n",
    "if os.path.isfile(picklename):\n",
    "    repickle=False"
   ]
  },
  {
   "cell_type": "code",
   "execution_count": 6,
   "metadata": {},
   "outputs": [
    {
     "name": "stdout",
     "output_type": "stream",
     "text": [
      "Missing file 2416 dict_keys(['WJetsToLNu_HT-800To1200_TuneCP5_13TeV-madgraphMLM-pythia8'])\n"
     ]
    }
   ],
   "source": [
    "# Load all files - this takes a while\n",
    "if repickle:\n",
    "    nfiles = len(subprocess.getoutput(\"ls infiles-split/\"+year+\"*.json\").split())\n",
    "    for n in range(1,nfiles+1):\n",
    "\n",
    "        with open('infiles-split/'+year+'_'+str(n)+'.json') as f:\n",
    "            infiles = json.load(f)\n",
    "    \n",
    "        filename = '/myeosdir/vh-charm-category/outfiles/'+year+'_'+str(n)+'.coffea'\n",
    "        #filename = 'outfiles/'+year+'_'+str(n)+'.coffea'\n",
    "        if os.path.isfile(filename):\n",
    "            out = util.load(filename)\n",
    "            outsum.add(out)\n",
    "        else:\n",
    "            print('Missing file '+str(n),infiles.keys())\n",
    "            #print(\"File \" + filename + \" is missing\")\n",
    "        \n",
    "    scale_lumi = {k: xs[k] * 1000 *lumis[year] / w for k, w in outsum['sumw'].items()}\n",
    "    outsum['cutflow'].scale(scale_lumi, 'dataset')\n",
    "    \n",
    "    # Use pmap to group the datasets together\n",
    "    cutflow = outsum['cutflow'].group('dataset', hist.Cat('process', 'Process'), pmap)\n",
    "\n",
    "    outfile = open(picklename, 'wb')\n",
    "    pickle.dump(cutflow, outfile, protocol=-1)\n",
    "    outfile.close()"
   ]
  },
  {
   "cell_type": "code",
   "execution_count": 7,
   "metadata": {},
   "outputs": [],
   "source": [
    "# Read the histogram from the pickle file\n",
    "cutflow = pickle.load(open(picklename,'rb')).sum('genflavor').integrate('region','signal')"
   ]
  },
  {
   "cell_type": "code",
   "execution_count": 8,
   "metadata": {},
   "outputs": [
    {
     "data": {
      "text/plain": [
       "{('ZH',): array([1.16797028e+04, 1.16797028e+04, 1.16797028e+04, 3.63764960e+01,\n",
       "        1.71534412e+01, 1.71534412e+01, 1.56008727e+01, 5.71277591e+00,\n",
       "        4.35212415e+00, 4.05557199e+00, 3.67152374e+00, 2.54043739e+00,\n",
       "        0.00000000e+00, 0.00000000e+00, 0.00000000e+00]),\n",
       " ('WH',): array([1.18458238e+04, 1.18458238e+04, 1.18458238e+04, 3.64965273e+01,\n",
       "        1.67306693e+01, 1.67306693e+01, 1.49924044e+01, 5.04224397e+00,\n",
       "        4.68884731e+00, 4.31960382e+00, 4.15036007e+00, 2.84199108e+00,\n",
       "        0.00000000e+00, 0.00000000e+00, 0.00000000e+00]),\n",
       " ('ttH',): array([4.21604910e+03, 4.21604910e+03, 4.21604910e+03, 1.71969794e+02,\n",
       "        7.67114481e+01, 7.67114481e+01, 5.03244761e+01, 5.77813575e+00,\n",
       "        2.93689935e+00, 2.34977985e+00, 1.53840095e+00, 6.27559301e-01,\n",
       "        0.00000000e+00, 0.00000000e+00, 0.00000000e+00]),\n",
       " ('VBF',): array([4.49693613e+04, 4.49693613e+04, 4.49693613e+04, 5.12944277e+01,\n",
       "        9.70277679e+00, 9.70277679e+00, 8.75760385e+00, 1.73893738e+00,\n",
       "        1.63710715e+00, 1.53195904e+00, 1.48311467e+00, 9.49687662e-01,\n",
       "        0.00000000e+00, 0.00000000e+00, 0.00000000e+00]),\n",
       " ('ggF',): array([3.50160965e+05, 3.50160965e+05, 3.50160965e+05, 1.19762227e+02,\n",
       "        3.18168507e+01, 3.18168507e+01, 2.75583928e+01, 4.09145680e+00,\n",
       "        3.96805529e+00, 3.88385760e+00, 3.88385760e+00, 2.45114340e+00,\n",
       "        0.00000000e+00, 0.00000000e+00, 0.00000000e+00]),\n",
       " ('ggF-powheg',): array([6.18717952e+05, 6.18717952e+05, 6.18717952e+05, 2.42746224e+02,\n",
       "        6.73521679e+01, 6.73521679e+01, 5.91065138e+01, 9.31935545e+00,\n",
       "        8.79150341e+00, 8.11949505e+00, 7.64333188e+00, 5.13871800e+00,\n",
       "        0.00000000e+00, 0.00000000e+00, 0.00000000e+00]),\n",
       " ('QCD',): array([1.31676660e+12, 1.31676660e+12, 1.31676660e+12, 5.30410966e+07,\n",
       "        1.50204222e+07, 1.50204222e+07, 1.35972575e+07, 7.81315503e+05,\n",
       "        7.63017926e+05, 7.54462018e+05, 7.34003804e+05, 1.87463696e+04,\n",
       "        0.00000000e+00, 0.00000000e+00, 0.00000000e+00]),\n",
       " ('VV',): array([3.26740305e+06, 3.26740305e+06, 3.26740305e+06, 2.51824261e+03,\n",
       "        9.48587243e+02, 9.48587243e+02, 8.44311177e+02, 2.45295372e+02,\n",
       "        2.35601303e+02, 2.26089542e+02, 1.92807944e+02, 2.14753651e+01,\n",
       "        0.00000000e+00, 0.00000000e+00, 0.00000000e+00]),\n",
       " ('Wjets',): array([2.60001471e+07, 2.60001471e+07, 2.60001471e+07, 1.57836465e+05,\n",
       "        5.31440533e+04, 5.31440533e+04, 4.17832125e+04, 5.15606176e+03,\n",
       "        4.99596820e+03, 4.75579393e+03, 4.24480628e+03, 1.40069445e+02,\n",
       "        0.00000000e+00, 0.00000000e+00, 0.00000000e+00]),\n",
       " ('Zjets',): array([4.22165487e+06, 4.22165487e+06, 4.22165487e+06, 7.51546059e+04,\n",
       "        2.58114562e+04, 2.58114562e+04, 2.02689428e+04, 2.71627281e+03,\n",
       "        2.59035191e+03, 2.51962113e+03, 1.99148929e+03, 2.12295926e+02,\n",
       "        0.00000000e+00, 0.00000000e+00, 0.00000000e+00]),\n",
       " ('ttbar',): array([1.83046166e+07, 1.83046166e+07, 1.83046166e+07, 1.13246552e+05,\n",
       "        4.93373389e+04, 4.93373389e+04, 4.00227734e+04, 4.64170555e+03,\n",
       "        3.09338490e+03, 2.70500641e+03, 1.98106887e+03, 3.36909573e+02,\n",
       "        0.00000000e+00, 0.00000000e+00, 0.00000000e+00]),\n",
       " ('singlet',): array([9.91229049e+06, 9.91229049e+06, 9.91229049e+06, 1.25916983e+04,\n",
       "        4.05098371e+03, 4.05098371e+03, 3.25914895e+03, 5.87975399e+02,\n",
       "        4.49364165e+02, 4.02412984e+02, 3.19441156e+02, 4.55533960e+01,\n",
       "        0.00000000e+00, 0.00000000e+00, 0.00000000e+00]),\n",
       " ('data',): array([4.21763522e+08, 1.54423110e+08, 1.49507576e+08, 3.02552560e+07,\n",
       "        9.55938400e+06, 9.55938400e+06, 8.12695600e+06, 4.82152000e+05,\n",
       "        4.62192000e+05, 4.50316000e+05, 4.31606000e+05, 1.41860000e+04,\n",
       "        0.00000000e+00, 0.00000000e+00, 0.00000000e+00]),\n",
       " ('muondata',): array([5.8328616e+07, 4.0966240e+06, 3.9821060e+06, 7.7808200e+05,\n",
       "        2.4424400e+05, 2.4424400e+05, 1.9715600e+05, 1.7406000e+04,\n",
       "        1.4882000e+04, 1.3090000e+04, 1.0274000e+04, 1.2580000e+03,\n",
       "        0.0000000e+00, 0.0000000e+00, 0.0000000e+00])}"
      ]
     },
     "execution_count": 8,
     "metadata": {},
     "output_type": "execute_result"
    }
   ],
   "source": [
    "cutflow.values()"
   ]
  },
  {
   "cell_type": "code",
   "execution_count": 9,
   "metadata": {},
   "outputs": [],
   "source": [
    "df1 = pd.DataFrame([])\n",
    "\n",
    "df1['ggF'] = cutflow.values()[('ggF',)]\n",
    "df1['VBF'] = cutflow.values()[('VBF',)]\n",
    "df1['WH'] = cutflow.values()[('WH',)]\n",
    "df1['ZH'] = cutflow.values()[('ZH',)]\n",
    "df1['ttH'] = cutflow.values()[('ttH',)]\n",
    "\n",
    "df1 = df1[3:-3].astype('int')\n",
    "df1.index = ['Jet 1 kinematics','Jet 2 kinematics','Jet ID','Jet acceptance','Jet $N_2^\\text{DDT}$','Opp. hem. b veto','MET $<$ 140 GeV','No leptons','DeepDoubleB']\n",
    "\n",
    "df1.to_latex(buf=year+'/cutflow-sig.tex')"
   ]
  },
  {
   "cell_type": "code",
   "execution_count": 10,
   "metadata": {},
   "outputs": [],
   "source": [
    "df2 = pd.DataFrame([])\n",
    "\n",
    "df2['QCD'] = cutflow.values()[('QCD',)]\n",
    "df2['Wjets'] = cutflow.values()[('Wjets',)]\n",
    "df2['Zjets'] = cutflow.values()[('Zjets',)]\n",
    "df2['VV'] = cutflow.values()[('VV',)]\n",
    "df2['ttbar'] = cutflow.values()[('ttbar',)]\n",
    "df2['singlet'] = cutflow.values()[('singlet',)]\n",
    "\n",
    "df2 = df2[3:-3].astype('int')\n",
    "df2.index = ['Jet 1 kinematics','Jet 2 kinematics','Jet ID','Jet acceptance','Jet $N_2^\\text{DDT}$','Opp. hem. b veto','MET $<$ 140 GeV','No leptons','DeepDoubleB']\n",
    "\n",
    "df2.to_latex(buf=year+'/cutflow-bkg.tex')"
   ]
  },
  {
   "cell_type": "code",
   "execution_count": null,
   "metadata": {},
   "outputs": [],
   "source": []
  }
 ],
 "metadata": {
  "kernelspec": {
   "display_name": "Python 3",
   "language": "python",
   "name": "python3"
  },
  "language_info": {
   "codemirror_mode": {
    "name": "ipython",
    "version": 3
   },
   "file_extension": ".py",
   "mimetype": "text/x-python",
   "name": "python",
   "nbconvert_exporter": "python",
   "pygments_lexer": "ipython3",
   "version": "3.8.8"
  }
 },
 "nbformat": 4,
 "nbformat_minor": 2
}

{
 "cells": [
  {
   "cell_type": "code",
   "execution_count": 1,
   "metadata": {},
   "outputs": [],
   "source": [
    "import os, subprocess\n",
    "import json\n",
    "import uproot\n",
    "import awkward as ak\n",
    "import numpy as np\n",
    "from coffea import processor, util, hist\n",
    "import pandas as pd\n",
    "\n",
    "%matplotlib inline\n",
    "from matplotlib import lines as mlines\n",
    "import matplotlib.pyplot as plt\n",
    "from cycler import cycler\n",
    "\n",
    "import mplhep as hep\n",
    "plt.style.use([hep.style.CMS])"
   ]
  },
  {
   "cell_type": "code",
   "execution_count": 2,
   "metadata": {},
   "outputs": [],
   "source": [
    "lumis = {}\n",
    "lumis['2016'] = 35.9\n",
    "lumis['2017'] = 41.5\n",
    "lumis['2018'] = 59.9\n",
    "\n",
    "with open('xsec.json') as f:\n",
    "  xs = json.load(f)\n",
    "\n",
    "with open('pmap.json') as f:\n",
    "  pmap = json.load(f)"
   ]
  },
  {
   "cell_type": "code",
   "execution_count": 3,
   "metadata": {},
   "outputs": [],
   "source": [
    "year = '2017'\n",
    "nfiles = len(subprocess.getoutput(\"ls infiles-split/\"+year+\"*.json\").split())\n",
    "outsum = processor.dict_accumulator()"
   ]
  },
  {
   "cell_type": "code",
   "execution_count": null,
   "metadata": {},
   "outputs": [],
   "source": [
    "repickle=True\n",
    "\n",
    "# Check if pickle exists, and don't re-create it if it does\n",
    "picklename = 'pickles/cutflow.pkl'\n",
    "if os.path.isfile(picklename):\n",
    "    repickle=False"
   ]
  },
  {
   "cell_type": "code",
   "execution_count": 4,
   "metadata": {},
   "outputs": [
    {
     "name": "stdout",
     "output_type": "stream",
     "text": [
      "2416 dict_keys(['WJetsToLNu_HT-800To1200_TuneCP5_13TeV-madgraphMLM-pythia8'])\n",
      "ok\n"
     ]
    },
    {
     "name": "stderr",
     "output_type": "stream",
     "text": [
      "/opt/conda/lib/python3.8/site-packages/coffea/hist/hist_tools.py:347: RuntimeWarning: Not all requested indices present in <Cat (name=dataset) instance at 0x7f36cf73da00>\n",
      "  warnings.warn(\"Not all requested indices present in %r\" % self, RuntimeWarning)\n"
     ]
    }
   ],
   "source": [
    "# Load all files - this takes a while\n",
    "if repickle:\n",
    "    nfiles = len(subprocess.getoutput(\"ls infiles-split/\"+year+\"*.json\").split())\n",
    "    for n in range(1,nfiles+1):\n",
    "\n",
    "        with open('infiles-split/'+year+'_'+str(n)+'.json') as f:\n",
    "            infiles = json.load(f)\n",
    "    \n",
    "        filename = '/myeosdir/vh-charm-category/outfiles/'+year+'_'+str(n)+'.coffea'\n",
    "        #filename = 'outfiles/'+year+'_'+str(n)+'.coffea'\n",
    "        if os.path.isfile(filename):\n",
    "            out = util.load(filename)\n",
    "            outsum.add(out)\n",
    "        else:\n",
    "            print('Missing file '+str(n),infiles.keys())\n",
    "            #print(\"File \" + filename + \" is missing\")\n",
    "        \n",
    "    scale_lumi = {k: xs[k] * 1000 *lumis[year] / w for k, w in outsum['sumw'].items()}\n",
    "    outsum['cutflow'].scale(scale_lumi, 'dataset')\n",
    "    \n",
    "    # Use pmap to group the datasets together\n",
    "    cutflow = outsum['cutflow'].group('dataset', hist.Cat('process', 'Process'), pmap)\n",
    "\n",
    "    outfile = open(picklename, 'wb')\n",
    "    pickle.dump(cutflow, outfile, protocol=-1)\n",
    "    outfile.close()"
   ]
  },
  {
   "cell_type": "code",
   "execution_count": 5,
   "metadata": {},
   "outputs": [],
   "source": [
    "# Read the histogram from the pickle file\n",
    "cutflow = pickle.load(open(picklename,'rb')).sum('genflavor').integrate('region','signal')"
   ]
  },
  {
   "cell_type": "code",
   "execution_count": 6,
   "metadata": {},
   "outputs": [
    {
     "data": {
      "text/plain": [
       "{('ZH',): array([2.21741899e+04, 2.21741899e+04, 2.21741899e+04, 9.48949892e+01,\n",
       "        4.03883333e+01, 4.03883333e+01, 3.73628114e+01, 1.36731132e+01,\n",
       "        5.14012102e+00, 4.77083411e+00, 4.23354064e+00, 2.08320062e+00,\n",
       "        0.00000000e+00, 0.00000000e+00, 0.00000000e+00]),\n",
       " ('WH',): array([2.30625959e+04, 2.30625959e+04, 2.30625959e+04, 9.13328086e+01,\n",
       "        3.96662303e+01, 3.96662303e+01, 3.61224229e+01, 1.21142813e+01,\n",
       "        5.31855709e+00, 4.92417032e+00, 4.69081522e+00, 2.26576327e+00,\n",
       "        0.00000000e+00, 0.00000000e+00, 0.00000000e+00]),\n",
       " ('ttH',): array([8.62359138e+03, 8.62359138e+03, 8.62359138e+03, 4.38079156e+02,\n",
       "        1.84988537e+02, 1.84988537e+02, 1.28767131e+02, 1.46394160e+01,\n",
       "        4.52637109e+00, 3.56487932e+00, 2.34908087e+00, 7.05475798e-01,\n",
       "        0.00000000e+00, 0.00000000e+00, 0.00000000e+00]),\n",
       " ('VBF',): array([8.95943423e+04, 8.95943423e+04, 8.95943423e+04, 9.00098663e+01,\n",
       "        2.35016558e+01, 2.35016558e+01, 2.14525434e+01, 4.44141886e+00,\n",
       "        2.16937858e+00, 2.05684426e+00, 1.96217124e+00, 9.00751385e-01,\n",
       "        0.00000000e+00, 0.00000000e+00, 0.00000000e+00]),\n",
       " ('ggF',): array([6.97262732e+05, 6.97262732e+05, 6.97262732e+05, 2.49031707e+02,\n",
       "        7.63806206e+01, 7.63806206e+01, 6.77774403e+01, 9.59591215e+00,\n",
       "        5.77251721e+00, 5.61444781e+00, 5.42675188e+00, 2.82119815e+00,\n",
       "        0.00000000e+00, 0.00000000e+00, 0.00000000e+00]),\n",
       " ('ggF-powheg',): array([1.23071441e+06, 1.23071441e+06, 1.23071441e+06, 4.73826958e+02,\n",
       "        1.60720995e+02, 1.60720995e+02, 1.43243427e+02, 2.22227212e+01,\n",
       "        1.15679636e+01, 1.14302302e+01, 1.13118657e+01, 6.02387330e+00,\n",
       "        0.00000000e+00, 0.00000000e+00, 0.00000000e+00]),\n",
       " ('QCD',): array([1.20510682e+10, 1.20510682e+10, 1.20510682e+10, 2.25522101e+07,\n",
       "        6.23613400e+06, 6.23613400e+06, 5.35337692e+06, 3.02854062e+05,\n",
       "        2.74486749e+05, 2.70269722e+05, 2.62880362e+05, 3.71796964e+03,\n",
       "        0.00000000e+00, 0.00000000e+00, 0.00000000e+00]),\n",
       " ('VV',): array([4.78870722e+06, 4.78870722e+06, 4.78870722e+06, 5.23947318e+03,\n",
       "        1.65005524e+03, 1.65005524e+03, 1.48917547e+03, 4.41388779e+02,\n",
       "        3.86177709e+02, 3.69673611e+02, 3.12634712e+02, 1.71202317e+01,\n",
       "        0.00000000e+00, 0.00000000e+00, 0.00000000e+00]),\n",
       " ('Wjets',): array([2.62840817e+07, 2.62840817e+07, 2.62840817e+07, 4.03170323e+05,\n",
       "        1.09703088e+05, 1.09703088e+05, 8.88899103e+04, 1.09814422e+04,\n",
       "        1.00769174e+04, 9.52856221e+03, 8.39384164e+03, 1.48910483e+02,\n",
       "        0.00000000e+00, 0.00000000e+00, 0.00000000e+00]),\n",
       " ('Zjets',): array([5.67858030e+06, 5.67858030e+06, 5.67858030e+06, 1.86027581e+05,\n",
       "        5.61499811e+04, 5.61499811e+04, 4.54268266e+04, 6.04803516e+03,\n",
       "        5.16051596e+03, 5.02692549e+03, 3.93597854e+03, 2.07710480e+02,\n",
       "        0.00000000e+00, 0.00000000e+00, 0.00000000e+00]),\n",
       " ('ttbar',): array([3.14399431e+07, 3.14399431e+07, 3.14399431e+07, 2.30813252e+05,\n",
       "        9.38891559e+04, 9.38891559e+04, 7.77969196e+04, 9.92927847e+03,\n",
       "        4.77680461e+03, 4.11409426e+03, 2.83934633e+03, 3.44435539e+02,\n",
       "        0.00000000e+00, 0.00000000e+00, 0.00000000e+00]),\n",
       " ('singlet',): array([1.18240923e+07, 1.18240923e+07, 1.18240923e+07, 2.58305798e+04,\n",
       "        8.04937927e+03, 8.04937927e+03, 6.66381773e+03, 1.29520301e+03,\n",
       "        6.71528360e+02, 5.97226689e+02, 4.69718980e+02, 4.29595879e+01,\n",
       "        0.00000000e+00, 0.00000000e+00, 0.00000000e+00]),\n",
       " ('data',): array([2.10881761e+08, 7.72115550e+07, 7.47537880e+07, 2.07504230e+07,\n",
       "        5.66688300e+06, 5.66688300e+06, 4.92280100e+06, 2.88007000e+05,\n",
       "        2.54937000e+05, 2.48948000e+05, 2.38782000e+05, 3.84500000e+03,\n",
       "        0.00000000e+00, 0.00000000e+00, 0.00000000e+00]),\n",
       " ('muondata',): array([2.9164308e+07, 2.0483120e+06, 1.9910530e+06, 5.2290100e+05,\n",
       "        1.4466000e+05, 1.4466000e+05, 1.2014900e+05, 1.0634000e+04,\n",
       "        7.1520000e+03, 6.3580000e+03, 4.9770000e+03, 3.2300000e+02,\n",
       "        0.0000000e+00, 0.0000000e+00, 0.0000000e+00])}"
      ]
     },
     "execution_count": 6,
     "metadata": {},
     "output_type": "execute_result"
    }
   ],
   "source": [
    "cutflow.values()"
   ]
  },
  {
   "cell_type": "code",
   "execution_count": 7,
   "metadata": {},
   "outputs": [],
   "source": [
    "df1 = pd.DataFrame([])\n",
    "\n",
    "df1['ggF'] = cutflow.values()[('ggF',)]\n",
    "df1['VBF'] = cutflow.values()[('VBF',)]\n",
    "df1['WH'] = cutflow.values()[('WH',)]\n",
    "df1['ZH'] = cutflow.values()[('ZH',)]\n",
    "df1['ttH'] = cutflow.values()[('ttH',)]\n",
    "\n",
    "df1 = df1[3:-3].astype('int')\n",
    "df1.index = ['Jet 1 kinematics','Jet 2 kinematics','Jet ID','Jet acceptance','Jet $N_2^\\text{DDT}$','Opp. hem. b veto','MET $<$ 140 GeV','No leptons','DeepDoubleB']\n",
    "\n",
    "df1.to_latex(buf=year+'/cutflow-sig.tex')"
   ]
  },
  {
   "cell_type": "code",
   "execution_count": 8,
   "metadata": {},
   "outputs": [],
   "source": [
    "df2 = pd.DataFrame([])\n",
    "\n",
    "df2['QCD'] = cutflow.values()[('QCD',)]\n",
    "df2['Wjets'] = cutflow.values()[('Wjets',)]\n",
    "df2['Zjets'] = cutflow.values()[('Zjets',)]\n",
    "df2['VV'] = cutflow.values()[('VV',)]\n",
    "df2['ttbar'] = cutflow.values()[('ttbar',)]\n",
    "df2['singlet'] = cutflow.values()[('singlet',)]\n",
    "\n",
    "df2 = df2[3:-3].astype('int')\n",
    "df2.index = ['Jet 1 kinematics','Jet 2 kinematics','Jet ID','Jet acceptance','Jet $N_2^\\text{DDT}$','Opp. hem. b veto','MET $<$ 140 GeV','No leptons','DeepDoubleB']\n",
    "\n",
    "df2.to_latex(buf=year+'/cutflow-bkg.tex')"
   ]
  },
  {
   "cell_type": "code",
   "execution_count": null,
   "metadata": {},
   "outputs": [],
   "source": []
  }
 ],
 "metadata": {
  "kernelspec": {
   "display_name": "Python 3",
   "language": "python",
   "name": "python3"
  },
  "language_info": {
   "codemirror_mode": {
    "name": "ipython",
    "version": 3
   },
   "file_extension": ".py",
   "mimetype": "text/x-python",
   "name": "python",
   "nbconvert_exporter": "python",
   "pygments_lexer": "ipython3",
   "version": "3.8.8"
  }
 },
 "nbformat": 4,
 "nbformat_minor": 2
}

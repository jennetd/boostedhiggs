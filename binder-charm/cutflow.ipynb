{
 "cells": [
  {
   "cell_type": "code",
   "execution_count": 13,
   "metadata": {},
   "outputs": [],
   "source": [
    "import os, subprocess\n",
    "import json\n",
    "import uproot\n",
    "import awkward as ak\n",
    "import numpy as np\n",
    "from coffea import processor, util, hist\n",
    "import pandas as pd\n",
    "import pickle\n",
    "\n",
    "import mplhep as hep\n",
    "plt.style.use([hep.style.CMS])"
   ]
  },
  {
   "cell_type": "code",
   "execution_count": 14,
   "metadata": {},
   "outputs": [],
   "source": [
    "lumis = {}\n",
    "lumis['2016'] = 35.9\n",
    "lumis['2017'] = 41.5\n",
    "lumis['2018'] = 59.9\n",
    "\n",
    "with open('xsec.json') as f:\n",
    "  xs = json.load(f)\n",
    "\n",
    "with open('pmap.json') as f:\n",
    "  pmap = json.load(f)"
   ]
  },
  {
   "cell_type": "code",
   "execution_count": 15,
   "metadata": {},
   "outputs": [],
   "source": [
    "year = '2017'\n",
    "nfiles = len(subprocess.getoutput(\"ls infiles-split/\"+year+\"*.json\").split())\n",
    "outsum = processor.dict_accumulator()"
   ]
  },
  {
   "cell_type": "code",
   "execution_count": 16,
   "metadata": {},
   "outputs": [],
   "source": [
    "repickle=True\n",
    "\n",
    "# Check if pickle exists, and don't re-create it if it does\n",
    "picklename = 'pickles/cutflow.pkl'\n",
    "if os.path.isfile(picklename):\n",
    "    repickle=False"
   ]
  },
  {
   "cell_type": "code",
   "execution_count": 17,
   "metadata": {},
   "outputs": [
    {
     "name": "stdout",
     "output_type": "stream",
     "text": [
      "Missing file 2416 dict_keys(['WJetsToLNu_HT-800To1200_TuneCP5_13TeV-madgraphMLM-pythia8'])\n"
     ]
    },
    {
     "name": "stderr",
     "output_type": "stream",
     "text": [
      "/opt/conda/lib/python3.8/site-packages/coffea/hist/hist_tools.py:376: RuntimeWarning: Not all requested indices present in <Cat (name=dataset) instance at 0x7f05d1ee02e0>\n",
      "  warnings.warn(\n"
     ]
    }
   ],
   "source": [
    "# Load all files - this takes a while\n",
    "if repickle:\n",
    "    nfiles = len(subprocess.getoutput(\"ls infiles-split/\"+year+\"*.json\").split())\n",
    "    for n in range(1,nfiles+1):\n",
    "\n",
    "        with open('infiles-split/'+year+'_'+str(n)+'.json') as f:\n",
    "            infiles = json.load(f)\n",
    "    \n",
    "        filename = '/myeosdir/vh-charm-category/outfiles/'+year+'_'+str(n)+'.coffea'\n",
    "        #filename = 'outfiles/'+year+'_'+str(n)+'.coffea'\n",
    "        if os.path.isfile(filename):\n",
    "            out = util.load(filename)\n",
    "            outsum.add(out)\n",
    "        else:\n",
    "            print('Missing file '+str(n),infiles.keys())\n",
    "            #print(\"File \" + filename + \" is missing\")\n",
    "        \n",
    "    scale_lumi = {k: xs[k] * 1000 *lumis[year] / w for k, w in outsum['sumw'].items()}\n",
    "    outsum['cutflow'].scale(scale_lumi, 'dataset')\n",
    "    \n",
    "    # Use pmap to group the datasets together\n",
    "    cutflow = outsum['cutflow'].group('dataset', hist.Cat('process', 'Process'), pmap)\n",
    "\n",
    "    outfile = open(picklename, 'wb')\n",
    "    pickle.dump(cutflow, outfile, protocol=-1)\n",
    "    outfile.close()"
   ]
  },
  {
   "cell_type": "code",
   "execution_count": 18,
   "metadata": {},
   "outputs": [],
   "source": [
    "# Read the histogram from the pickle file\n",
    "cutflow = pickle.load(open(picklename,'rb')).sum('genflavor').integrate('region','signal')"
   ]
  },
  {
   "cell_type": "code",
   "execution_count": 19,
   "metadata": {},
   "outputs": [
    {
     "data": {
      "text/plain": [
       "{('ZH',): array([2.21183240e+04, 2.21183240e+04, 2.21183240e+04, 6.82273218e+01,\n",
       "        3.21740575e+01, 3.21740575e+01, 2.92637050e+01, 1.07797661e+01,\n",
       "        8.20117272e+00, 7.63554111e+00, 6.87884939e+00, 4.77129177e+00,\n",
       "        0.00000000e+00, 0.00000000e+00, 0.00000000e+00]),\n",
       " ('WH',): array([2.30139165e+04, 2.30139165e+04, 2.30139165e+04, 7.06732879e+01,\n",
       "        3.20572060e+01, 3.20572060e+01, 2.87132755e+01, 9.64926782e+00,\n",
       "        8.97274044e+00, 8.26274770e+00, 7.93459443e+00, 5.43290897e+00,\n",
       "        0.00000000e+00, 0.00000000e+00, 0.00000000e+00]),\n",
       " ('ttH',): array([8.40765801e+03, 8.40765801e+03, 8.40765801e+03, 3.42942689e+02,\n",
       "        1.52978204e+02, 1.52978204e+02, 1.00357224e+02, 1.15227760e+01,\n",
       "        5.85677366e+00, 4.68593816e+00, 3.06788387e+00, 1.25148068e+00,\n",
       "        0.00000000e+00, 0.00000000e+00, 0.00000000e+00]),\n",
       " ('VBF',): array([8.95147457e+04, 8.95147457e+04, 8.95147457e+04, 1.02105245e+02,\n",
       "        1.93140746e+01, 1.93140746e+01, 1.74326399e+01, 3.46147984e+00,\n",
       "        3.25877944e+00, 3.04947457e+00, 2.95224634e+00, 1.89042155e+00,\n",
       "        0.00000000e+00, 0.00000000e+00, 0.00000000e+00]),\n",
       " ('ggF',): array([6.97074727e+05, 6.97074727e+05, 6.97074727e+05, 2.38413844e+02,\n",
       "        6.33386491e+01, 6.33386491e+01, 5.48612241e+01, 8.14497165e+00,\n",
       "        7.89931298e+00, 7.73169840e+00, 7.73169840e+00, 4.87955622e+00,\n",
       "        0.00000000e+00, 0.00000000e+00, 0.00000000e+00]),\n",
       " ('ggF-powheg',): array([1.23040145e+06, 1.23040145e+06, 1.23040145e+06, 4.82732568e+02,\n",
       "        1.33938582e+02, 1.33938582e+02, 1.17541022e+02, 1.85327554e+01,\n",
       "        1.74830527e+01, 1.61466763e+01, 1.51997636e+01, 1.02190118e+01,\n",
       "        0.00000000e+00, 0.00000000e+00, 0.00000000e+00]),\n",
       " ('QCD',): array([1.20241271e+10, 1.20241271e+10, 1.20241271e+10, 1.61831823e+07,\n",
       "        5.15306895e+06, 5.15306895e+06, 4.31856200e+06, 2.47744599e+05,\n",
       "        2.41023418e+05, 2.36953369e+05, 2.30514766e+05, 6.88572813e+03,\n",
       "        0.00000000e+00, 0.00000000e+00, 0.00000000e+00]),\n",
       " ('VV',): array([4.78547328e+06, 4.78547328e+06, 4.78547328e+06, 3.71814710e+03,\n",
       "        1.39815401e+03, 1.39815401e+03, 1.24406995e+03, 3.62404454e+02,\n",
       "        3.47859569e+02, 3.33800332e+02, 2.83264833e+02, 3.21249131e+01,\n",
       "        0.00000000e+00, 0.00000000e+00, 0.00000000e+00]),\n",
       " ('Wjets',): array([2.59244153e+07, 2.59244153e+07, 2.59244153e+07, 2.75815459e+05,\n",
       "        9.22738504e+04, 9.22738504e+04, 7.25064910e+04, 8.93944161e+03,\n",
       "        8.66188056e+03, 8.21056817e+03, 7.24672467e+03, 2.39111441e+02,\n",
       "        0.00000000e+00, 0.00000000e+00, 0.00000000e+00]),\n",
       " ('Zjets',): array([5.52909604e+06, 5.52909604e+06, 5.52909604e+06, 1.38477423e+05,\n",
       "        4.74458379e+04, 4.74458379e+04, 3.72570117e+04, 5.01834072e+03,\n",
       "        4.78528366e+03, 4.65331918e+03, 3.62813657e+03, 3.86599457e+02,\n",
       "        0.00000000e+00, 0.00000000e+00, 0.00000000e+00]),\n",
       " ('ttbar',): array([3.13097012e+07, 3.13097012e+07, 3.13097012e+07, 1.86580204e+05,\n",
       "        7.81934025e+04, 7.81934025e+04, 6.33028816e+04, 7.79211528e+03,\n",
       "        5.15328920e+03, 4.41972104e+03, 3.04246657e+03, 5.36910935e+02,\n",
       "        0.00000000e+00, 0.00000000e+00, 0.00000000e+00]),\n",
       " ('singlet',): array([1.18063625e+07, 1.18063625e+07, 1.18063625e+07, 1.90617974e+04,\n",
       "        6.57606921e+03, 6.57606921e+03, 5.25530113e+03, 9.84194288e+02,\n",
       "        7.54800333e+02, 6.70577244e+02, 5.28430255e+02, 7.69040393e+01,\n",
       "        0.00000000e+00, 0.00000000e+00, 0.00000000e+00]),\n",
       " ('data',): array([2.10881761e+08, 7.72115550e+07, 7.47537880e+07, 1.51276280e+07,\n",
       "        4.77969200e+06, 4.77969200e+06, 4.06347800e+06, 2.41076000e+05,\n",
       "        2.31096000e+05, 2.25158000e+05, 2.15803000e+05, 7.09300000e+03,\n",
       "        0.00000000e+00, 0.00000000e+00, 0.00000000e+00]),\n",
       " ('muondata',): array([2.9164308e+07, 2.0483120e+06, 1.9910530e+06, 3.8904100e+05,\n",
       "        1.2212200e+05, 1.2212200e+05, 9.8578000e+04, 8.7030000e+03,\n",
       "        7.4410000e+03, 6.5450000e+03, 5.1370000e+03, 6.2900000e+02,\n",
       "        0.0000000e+00, 0.0000000e+00, 0.0000000e+00])}"
      ]
     },
     "execution_count": 19,
     "metadata": {},
     "output_type": "execute_result"
    }
   ],
   "source": [
    "cutflow.values()"
   ]
  },
  {
   "cell_type": "code",
   "execution_count": 20,
   "metadata": {},
   "outputs": [],
   "source": [
    "df1 = pd.DataFrame([])\n",
    "\n",
    "df1['ggF'] = cutflow.values()[('ggF',)]\n",
    "df1['VBF'] = cutflow.values()[('VBF',)]\n",
    "df1['WH'] = cutflow.values()[('WH',)]\n",
    "df1['ZH'] = cutflow.values()[('ZH',)]\n",
    "df1['ttH'] = cutflow.values()[('ttH',)]\n",
    "\n",
    "df1 = df1[3:-3].astype('int')\n",
    "df1.index = ['Jet 1 kinematics','Jet 2 kinematics','Jet ID','Jet acceptance','Jet $N_2^\\text{DDT}$','Opp. hem. b veto','MET $<$ 140 GeV','No leptons','DeepDoubleB']\n",
    "\n",
    "df1.to_latex(buf=year+'/cutflow-sig.tex')"
   ]
  },
  {
   "cell_type": "code",
   "execution_count": 21,
   "metadata": {},
   "outputs": [],
   "source": [
    "df2 = pd.DataFrame([])\n",
    "\n",
    "df2['QCD'] = cutflow.values()[('QCD',)]\n",
    "df2['Wjets'] = cutflow.values()[('Wjets',)]\n",
    "df2['Zjets'] = cutflow.values()[('Zjets',)]\n",
    "df2['VV'] = cutflow.values()[('VV',)]\n",
    "df2['ttbar'] = cutflow.values()[('ttbar',)]\n",
    "df2['singlet'] = cutflow.values()[('singlet',)]\n",
    "\n",
    "df2 = df2[3:-3].astype('int')\n",
    "df2.index = ['Jet 1 kinematics','Jet 2 kinematics','Jet ID','Jet acceptance','Jet $N_2^\\text{DDT}$','Opp. hem. b veto','MET $<$ 140 GeV','No leptons','DeepDoubleB']\n",
    "\n",
    "df2.to_latex(buf=year+'/cutflow-bkg.tex')"
   ]
  },
  {
   "cell_type": "code",
   "execution_count": null,
   "metadata": {},
   "outputs": [],
   "source": []
  }
 ],
 "metadata": {
  "kernelspec": {
   "display_name": "Python 3",
   "language": "python",
   "name": "python3"
  },
  "language_info": {
   "codemirror_mode": {
    "name": "ipython",
    "version": 3
   },
   "file_extension": ".py",
   "mimetype": "text/x-python",
   "name": "python",
   "nbconvert_exporter": "python",
   "pygments_lexer": "ipython3",
   "version": "3.8.8"
  }
 },
 "nbformat": 4,
 "nbformat_minor": 2
}

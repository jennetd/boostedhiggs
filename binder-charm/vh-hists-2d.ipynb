{
 "cells": [
  {
   "cell_type": "code",
   "execution_count": 10,
   "metadata": {},
   "outputs": [],
   "source": [
    "import os, subprocess\n",
    "import json\n",
    "import uproot3\n",
    "import awkward as ak\n",
    "import numpy as np\n",
    "from coffea import processor, util, hist\n",
    "import pickle\n",
    "\n",
    "from plotter import *"
   ]
  },
  {
   "cell_type": "code",
   "execution_count": 11,
   "metadata": {},
   "outputs": [],
   "source": [
    "lumis = {}\n",
    "lumis['2016'] = 35.9\n",
    "lumis['2017'] = 41.5\n",
    "lumis['2018'] = 59.9\n",
    "\n",
    "with open('xsec.json') as f:\n",
    "  xs = json.load(f)\n",
    "\n",
    "with open('pmap.json') as f:\n",
    "  pmap = json.load(f)\n",
    "\n",
    "systematics = ['nominal',\n",
    "               'jet_triggerUp','jet_triggerDown',\n",
    "               'btagWeightUp','btagWeightDown','btagEffStatUp','btagEffStatDown',\n",
    "               'UESUp','UESDown','JESUp','JESDown','JERUp','JERDown',\n",
    "              ]"
   ]
  },
  {
   "cell_type": "code",
   "execution_count": 12,
   "metadata": {},
   "outputs": [],
   "source": [
    "year = '2017'\n",
    "nfiles = len(subprocess.getoutput(\"ls infiles-split/\"+year+\"*.json\").split())\n",
    "outsum = processor.dict_accumulator()"
   ]
  },
  {
   "cell_type": "code",
   "execution_count": 13,
   "metadata": {},
   "outputs": [],
   "source": [
    "repickle=True\n",
    "\n",
    "# Check if pickle exists, and don't re-create it if it does\n",
    "picklename = 'pickles/'+str(year)+'_templates.pkl'\n",
    "if os.path.isfile(picklename):\n",
    "    repickle=False"
   ]
  },
  {
   "cell_type": "code",
   "execution_count": 14,
   "metadata": {},
   "outputs": [],
   "source": [
    "# Load all files - this takes a while\n",
    "if repickle:\n",
    "    nfiles = len(subprocess.getoutput(\"ls infiles-split/\"+year+\"*.json\").split())\n",
    "    for n in range(1,nfiles+1):\n",
    "\n",
    "        with open('infiles-split/'+year+'_'+str(n)+'.json') as f:\n",
    "            infiles = json.load(f)\n",
    "    \n",
    "        filename = '/myeosdir/vh-charm-category/outfiles/'+year+'_'+str(n)+'.coffea'\n",
    "        #filename = 'outfiles/'+year+'_'+str(n)+'.coffea'\n",
    "        if os.path.isfile(filename):\n",
    "            out = util.load(filename)\n",
    "            outsum.add(out)\n",
    "        else:\n",
    "            print('Missing file '+str(n),infiles.keys())\n",
    "            #print(\"File \" + filename + \" is missing\")\n",
    "        \n",
    "    scale_lumi = {k: xs[k] * 1000 *lumis[year] / w for k, w in outsum['sumw'].items()}\n",
    "    outsum['templates'].scale(scale_lumi, 'dataset')\n",
    "    \n",
    "    # Use pmap to group the datasets together\n",
    "    templates = outsum['templates'].group('dataset', hist.Cat('process', 'Process'), pmap)\n",
    "\n",
    "    outfile = open(picklename, 'wb')\n",
    "    pickle.dump(templates, outfile, protocol=-1)\n",
    "    outfile.close()"
   ]
  },
  {
   "cell_type": "code",
   "execution_count": 15,
   "metadata": {},
   "outputs": [],
   "source": [
    "# Read the histogram from the pickle file\n",
    "templates = pickle.load(open(picklename,'rb'))"
   ]
  },
  {
   "cell_type": "code",
   "execution_count": 16,
   "metadata": {},
   "outputs": [
    {
     "data": {
      "text/plain": [
       "{('ZH',): array([1.06661833e-01, 2.58988235e-02, 2.19574069e-01, 1.72490456e-01,\n",
       "        8.31461077e-01, 1.47377843e+00, 1.97304070e+00, 1.25867471e+00,\n",
       "        2.56550903e-01, 1.72181723e-01, 4.70415066e-02, 7.15189669e-02,\n",
       "        1.27983266e-01, 2.53765047e-04, 3.86540973e-04, 5.79798639e-02,\n",
       "        1.47840516e-02, 3.49517975e-04, 5.43771185e-02, 8.50280473e-05,\n",
       "        1.33685251e-02, 4.08514916e-04]),\n",
       " ('WH',): array([2.01347958e-01, 4.86615242e-01, 6.63751959e-01, 1.33145637e+00,\n",
       "        2.29267075e+00, 2.01839456e+00, 5.96382569e-01, 8.55178632e-02,\n",
       "        3.15479968e-02, 2.06484916e-03, 7.54301590e-02, 3.87644559e-02,\n",
       "        1.83353759e-03, 5.12358181e-03, 0.00000000e+00, 0.00000000e+00,\n",
       "        0.00000000e+00, 0.00000000e+00, 0.00000000e+00, 4.13300494e-02,\n",
       "        3.67802951e-02, 0.00000000e+00]),\n",
       " ('ttH',): array([0.08184465, 0.09882349, 0.1512636 , 0.29845429, 0.39784496,\n",
       "        0.43777151, 0.24216237, 0.18505042, 0.17008616, 0.17332713,\n",
       "        0.14869979, 0.12033529, 0.12366182, 0.10050548, 0.07064922,\n",
       "        0.04181935, 0.04668808, 0.05859533, 0.04166019, 0.0339683 ,\n",
       "        0.01935573, 0.01757668]),\n",
       " ('VBF',): array([0.2688615 , 0.25761307, 0.17047439, 0.18102628, 0.11425471,\n",
       "        0.18938465, 0.18492242, 0.19059068, 0.25503942, 0.19059916,\n",
       "        0.14741885, 0.07568918, 0.08965423, 0.07342921, 0.11897023,\n",
       "        0.04935366, 0.08838081, 0.03506773, 0.11731805, 0.05676751,\n",
       "        0.03092247, 0.06650813]),\n",
       " ('ggF',): array([0.37426   , 0.50469825, 0.3986763 , 0.26015302, 0.3732392 ,\n",
       "        0.47125078, 0.73685946, 0.10328139, 0.39999625, 0.23999186,\n",
       "        0.35751996, 0.56905024, 0.38859561, 0.24280087, 1.2599949 ,\n",
       "        0.13122677, 0.        , 0.13882903, 0.27507276, 0.13564124,\n",
       "        0.24213549, 0.12842502]),\n",
       " ('ggF-powheg',): array([2.26772769, 0.67362484, 0.51450716, 0.96679315, 0.54828487,\n",
       "        1.2411123 , 0.78828164, 0.85948291, 0.6683212 , 0.65303434,\n",
       "        0.294124  , 0.67075558, 0.45281106, 0.59616277, 0.45066827,\n",
       "        0.36274632, 1.04370686, 0.69114118, 0.41822192, 0.23200012,\n",
       "        0.46887281, 0.33738266]),\n",
       " ('QCD',): array([17999.60947485, 17003.05171465, 15389.1954075 , 15209.19093383,\n",
       "        14193.53018158, 13274.11148869, 12970.99917638, 12155.73692669,\n",
       "        12186.29735508, 11338.96033681, 10651.05551546, 10269.4744651 ,\n",
       "         9762.84116318,  9495.43664956,  8548.2492863 ,  7738.62113535,\n",
       "         7075.99347516,  6230.85289116,  5931.70207139,  5032.93073912,\n",
       "         4391.43589023,  3664.79723821]),\n",
       " ('VV',): array([ 6.69651128,  5.28502643, 14.08274641, 32.61559345, 62.63351037,\n",
       "        62.71436503, 45.18051822, 20.20926801,  9.75765119,  5.18923005,\n",
       "         4.86108362,  3.01233609,  2.52679588,  1.58210633,  1.2565217 ,\n",
       "         1.07906063,  1.72931006,  0.68875454,  0.44865362,  0.25317893,\n",
       "         1.74372015,  0.        ]),\n",
       " ('Wjets',): array([385.96417723, 372.16110438, 424.60615598, 625.59629068,\n",
       "        964.83481199, 902.44550869, 526.47588047, 345.76834698,\n",
       "        294.22084815, 270.69718648, 261.43162408, 247.06607548,\n",
       "        234.33355276, 225.81130626, 199.814035  , 184.44655912,\n",
       "        167.91842681, 154.43057779, 136.74116565, 128.94472955,\n",
       "        106.75208317,  82.50941398]),\n",
       " ('Zjets',): array([205.25609653, 184.29850825, 178.97731413, 182.32251455,\n",
       "        231.49156621, 356.36075332, 455.85008025, 374.8546779 ,\n",
       "        222.1781457 , 162.97101382, 138.965456  , 125.47872177,\n",
       "        113.37861189, 105.82751211, 101.55914985,  96.94243   ,\n",
       "         84.60054064,  76.3218484 ,  70.37661878,  62.38976897,\n",
       "         51.60104652,  42.95769768]),\n",
       " ('ttbar',): array([ 67.61166281, 105.03528413, 131.71886302, 259.29614683,\n",
       "        468.87595102, 476.65091085, 296.44484731, 175.786053  ,\n",
       "        149.41921742, 143.66650264, 135.51993605, 124.02120556,\n",
       "        108.30597761,  88.38049762,  68.38506622,  55.76658874,\n",
       "         53.23613872,  41.32598679,  34.07296806,  25.88714186,\n",
       "         16.89806773,  12.55889141]),\n",
       " ('singlet',): array([ 12.32830522,  15.13486871,  23.81941959,  61.11672573,\n",
       "        131.5985808 , 115.91486434,  39.41107554,  18.31171238,\n",
       "         11.61748972,  10.55075766,   9.3756293 ,  12.13491958,\n",
       "         10.74382892,   8.4352483 ,   8.47309651,   8.81366761,\n",
       "          8.18289081,   5.6703655 ,   6.8316859 ,   2.96823485,\n",
       "          2.80316181,   3.63882181]),\n",
       " ('data',): array([16665., 15273., 14207., 13783., 14008., 13535., 12392., 11769.,\n",
       "        11301., 10956., 10519.,  9728.,  9123.,  8564.,  8028.,  7132.,\n",
       "         6508.,  5864.,  5034.,  4400.,  3766.,  3245.]),\n",
       " ('muondata',): array([339., 368., 325., 313., 328., 342., 317., 296., 285., 263., 264.,\n",
       "        251., 211., 196., 206., 163., 152., 139., 125.,  93.,  85.,  76.])}"
      ]
     },
     "execution_count": 16,
     "metadata": {},
     "output_type": "execute_result"
    }
   ],
   "source": [
    "# check intergrals\n",
    "templates.sum('pt1','msd1','ddb1').integrate('region','signal').integrate('systematic','nominal').values()"
   ]
  },
  {
   "cell_type": "code",
   "execution_count": 17,
   "metadata": {},
   "outputs": [],
   "source": [
    "templates_vh = templates.sum('pt1').integrate('region','signal')"
   ]
  },
  {
   "cell_type": "code",
   "execution_count": 18,
   "metadata": {},
   "outputs": [
    {
     "name": "stdout",
     "output_type": "stream",
     "text": [
      "ZH\n",
      "WH\n",
      "ttH\n",
      "VBF\n",
      "ggF\n",
      "ggF-powheg\n",
      "QCD\n",
      "VV\n",
      "Wjets\n",
      "Zjets\n",
      "ttbar\n",
      "singlet\n",
      "data\n",
      "muondata\n",
      "ZH\n",
      "WH\n",
      "ttH\n",
      "VBF\n",
      "ggF\n",
      "ggF-powheg\n",
      "QCD\n",
      "VV\n",
      "Wjets\n",
      "Zjets\n",
      "ttbar\n",
      "singlet\n",
      "data\n",
      "muondata\n",
      "ZH\n",
      "WH\n",
      "ttH\n",
      "VBF\n",
      "ggF\n",
      "ggF-powheg\n",
      "QCD\n",
      "VV\n",
      "Wjets\n",
      "Zjets\n",
      "ttbar\n",
      "singlet\n",
      "data\n",
      "muondata\n"
     ]
    }
   ],
   "source": [
    "m2bins = [47, 68, 103, 201]\n",
    "os.system('rm '+year+'/3m2-signalregion.root')\n",
    "fout = uproot3.create(year+'/3m2-signalregion.root')\n",
    "\n",
    "for i,b in enumerate(m2bins[:-1]):\n",
    "    for p in pmap.keys(): \n",
    "        if p == \"ttH\" and year == '2016':\n",
    "            continue\n",
    "        print(p)\n",
    "        if \"data\" in p:\n",
    "            s = \"nominal\"\n",
    "            h = templates_vh.integrate('systematic',s).integrate('msd2',int_range=slice(m2bins[i],m2bins[i+1])).integrate('ddb1',int_range=slice(0.89,1)).integrate('process',p)\n",
    "            fout[\"pass_m2\"+str(i+1)+\"_\"+p+\"_\"+s] = hist.export1d(h)\n",
    "            h = templates_vh.integrate('systematic',s).integrate('msd2',int_range=slice(m2bins[i],m2bins[i+1])).integrate('ddb1',int_range=slice(0,0.89)).integrate('process',p)\n",
    "            fout[\"fail_m2\"+str(i+1)+\"_\"+p+\"_\"+s] = hist.export1d(h)\n",
    "        else:\n",
    "            for s in systematics:\n",
    "                h = templates_vh.integrate('systematic',s).integrate('msd2',int_range=slice(m2bins[i],m2bins[i+1])).integrate('ddb1',int_range=slice(0.89,1)).integrate('process',p)\n",
    "                fout[\"pass_m2\"+str(i+1)+\"_\"+p+\"_\"+s] = hist.export1d(h)\n",
    "                h = templates_vh.integrate('systematic',s).integrate('msd2',int_range=slice(m2bins[i],m2bins[i+1])).integrate('ddb1',int_range=slice(0,0.89)).integrate('process',p)\n",
    "                fout[\"fail_m2\"+str(i+1)+\"_\"+p+\"_\"+s] = hist.export1d(h)\n",
    "\n",
    "fout.close()"
   ]
  },
  {
   "cell_type": "code",
   "execution_count": null,
   "metadata": {},
   "outputs": [],
   "source": []
  }
 ],
 "metadata": {
  "kernelspec": {
   "display_name": "Python 3",
   "language": "python",
   "name": "python3"
  },
  "language_info": {
   "codemirror_mode": {
    "name": "ipython",
    "version": 3
   },
   "file_extension": ".py",
   "mimetype": "text/x-python",
   "name": "python",
   "nbconvert_exporter": "python",
   "pygments_lexer": "ipython3",
   "version": "3.8.8"
  }
 },
 "nbformat": 4,
 "nbformat_minor": 2
}

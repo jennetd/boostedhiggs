{
 "cells": [
  {
   "cell_type": "code",
   "execution_count": 1,
   "metadata": {},
   "outputs": [],
   "source": [
    "import os, subprocess\n",
    "import json\n",
    "import uproot\n",
    "import awkward as ak\n",
    "import numpy as np\n",
    "from coffea import processor, util, hist\n",
    "import pandas as pd\n",
    "import pickle"
   ]
  },
  {
   "cell_type": "code",
   "execution_count": 2,
   "metadata": {},
   "outputs": [],
   "source": [
    "lumis = {}\n",
    "lumis['2016'] = 35.9\n",
    "lumis['2017'] = 41.5\n",
    "lumis['2018'] = 59.9\n",
    "\n",
    "with open('xsec.json') as f:\n",
    "  xs = json.load(f)\n",
    "\n",
    "with open('pmap.json') as f:\n",
    "  pmap = json.load(f)"
   ]
  },
  {
   "cell_type": "code",
   "execution_count": 3,
   "metadata": {},
   "outputs": [],
   "source": [
    "year = '2017'\n",
    "nfiles = len(subprocess.getoutput(\"ls infiles-split/\"+year+\"*.json\").split())\n",
    "outsum = processor.dict_accumulator()"
   ]
  },
  {
   "cell_type": "code",
   "execution_count": 4,
   "metadata": {},
   "outputs": [],
   "source": [
    "repickle=True\n",
    "\n",
    "# Check if pickle exists, and don't re-create it if it does\n",
    "picklename = 'pickles/'+str(year)+'_cutflow.pkl'\n",
    "if os.path.isfile(picklename):\n",
    "    repickle=False"
   ]
  },
  {
   "cell_type": "code",
   "execution_count": 5,
   "metadata": {},
   "outputs": [
    {
     "name": "stdout",
     "output_type": "stream",
     "text": [
      "Missing file 2416 dict_keys(['WJetsToLNu_HT-800To1200_TuneCP5_13TeV-madgraphMLM-pythia8'])\n"
     ]
    },
    {
     "name": "stderr",
     "output_type": "stream",
     "text": [
      "/opt/conda/lib/python3.8/site-packages/coffea/hist/hist_tools.py:376: RuntimeWarning: Not all requested indices present in <Cat (name=dataset) instance at 0x7faa24d800a0>\n",
      "  warnings.warn(\n"
     ]
    }
   ],
   "source": [
    "# Load all files - this takes a while\n",
    "if repickle:\n",
    "    nfiles = len(subprocess.getoutput(\"ls infiles-split/\"+year+\"*.json\").split())\n",
    "    for n in range(1,nfiles+1):\n",
    "\n",
    "        with open('infiles-split/'+year+'_'+str(n)+'.json') as f:\n",
    "            infiles = json.load(f)\n",
    "    \n",
    "        filename = '/myeosdir/vbf-category/outfiles-ddb2/'+year+'_'+str(n)+'.coffea'\n",
    "        if os.path.isfile(filename):\n",
    "            out = util.load(filename)\n",
    "            outsum.add(out)\n",
    "        else:\n",
    "            print('Missing file '+str(n),infiles.keys())\n",
    "            #print(\"File \" + filename + \" is missing\")\n",
    "        \n",
    "    scale_lumi = {k: xs[k] * 1000 *lumis[year] / w for k, w in outsum['sumw'].items()}\n",
    "    outsum['cutflow'].scale(scale_lumi, 'dataset')\n",
    "    cutflow = outsum['cutflow'].group('dataset', hist.Cat('process', 'Process'), pmap)\n",
    "\n",
    "    outfile = open(picklename, 'wb')\n",
    "    pickle.dump(cutflow, outfile, protocol=-1)\n",
    "    outfile.close()"
   ]
  },
  {
   "cell_type": "code",
   "execution_count": 6,
   "metadata": {},
   "outputs": [],
   "source": [
    "# Read the histogram from the pickle file\n",
    "templates = pickle.load(open(picklename,'rb'))"
   ]
  },
  {
   "cell_type": "code",
   "execution_count": 7,
   "metadata": {},
   "outputs": [
    {
     "data": {
      "text/plain": [
       "<Hist (process,cut) instance at 0x7faa24d87370>"
      ]
     },
     "execution_count": 7,
     "metadata": {},
     "output_type": "execute_result"
    }
   ],
   "source": [
    "cutflow = templates.sum('genflavor').integrate('region','signal')\n",
    "cutflow"
   ]
  },
  {
   "cell_type": "code",
   "execution_count": 8,
   "metadata": {},
   "outputs": [
    {
     "data": {
      "text/plain": [
       "{('ZH',): array([365.04661246, 365.04661246, 365.04661246,  94.44354574,\n",
       "         94.44354574,  89.94455609,  54.9181011 ,  26.12645544,\n",
       "         19.65558786,  16.65618063,  14.41357777,   0.4560863 ,\n",
       "          0.        ,   0.        ,   0.        ]),\n",
       " ('WH',): array([434.9368986 , 434.9368986 , 434.9368986 , 118.84685093,\n",
       "        118.84685093, 112.22364368,  65.51732133,  35.13153055,\n",
       "         24.39392355,  21.28680113,  16.45224647,   0.73997579,\n",
       "          0.        ,   0.        ,   0.        ]),\n",
       " ('ttH',): array([1.15999415e+03, 1.15999415e+03, 1.15999415e+03, 4.36112105e+02,\n",
       "        4.36112105e+02, 3.67299671e+02, 1.28819052e+02, 4.33668210e+01,\n",
       "        3.32193958e+01, 2.19852485e+01, 2.18884642e+01, 3.87511565e-01,\n",
       "        0.00000000e+00, 0.00000000e+00, 0.00000000e+00]),\n",
       " ('VBF',): array([752.21154159, 752.21154159, 752.21154159,  89.2079906 ,\n",
       "         89.2079906 ,  86.55060599,  47.81515367,  39.33505266,\n",
       "         37.32167334,  35.9610754 ,  32.79318705,   2.87886593,\n",
       "          0.        ,   0.        ,   0.        ]),\n",
       " ('ggF',): array([1752.12400991, 1752.12400991, 1752.12400991,  247.2981417 ,\n",
       "         247.2981417 ,  233.56107016,  111.96258936,   88.60025392,\n",
       "          86.04238333,   84.15279303,   75.96025347,    6.04583398,\n",
       "           0.        ,    0.        ,    0.        ]),\n",
       " ('ggF-powheg',): array([2597.56186488, 2597.56186488, 2597.56186488,  471.00638744,\n",
       "         471.00638744,  449.74902597,  227.65551014,  185.50616947,\n",
       "         177.64380713,  171.60486462,  155.21776159,   11.43426641,\n",
       "           0.        ,    0.        ,    0.        ]),\n",
       " ('QCD',): array([3.60568837e+08, 3.60568837e+08, 3.60568837e+08, 2.22826160e+07,\n",
       "        2.22826160e+07, 2.05810807e+07, 5.41839463e+06, 5.00079869e+06,\n",
       "        4.89304823e+06, 4.75949660e+06, 3.95843995e+06, 5.01133675e+02,\n",
       "        0.00000000e+00, 0.00000000e+00, 0.00000000e+00]),\n",
       " ('VV',): array([2.50509341e+04, 2.50509341e+04, 2.50509341e+04, 5.19037544e+03,\n",
       "        5.19037544e+03, 4.90918319e+03, 2.84007711e+03, 2.60001973e+03,\n",
       "        1.94391724e+03, 1.52420340e+03, 1.27267135e+03, 3.89454330e+00,\n",
       "        0.00000000e+00, 0.00000000e+00, 0.00000000e+00]),\n",
       " ('Wjets',): array([2.80711627e+06, 2.80711627e+06, 2.80711627e+06, 3.86749185e+05,\n",
       "        3.86749185e+05, 3.48758604e+05, 1.39679070e+05, 1.30104206e+05,\n",
       "        1.15788405e+05, 1.00219818e+05, 8.71559396e+04, 1.45594278e+01,\n",
       "        0.00000000e+00, 0.00000000e+00, 0.00000000e+00]),\n",
       " ('Zjets',): array([9.83272195e+05, 9.83272195e+05, 9.83272195e+05, 1.65285186e+05,\n",
       "        1.65285186e+05, 1.48716333e+05, 6.70953510e+04, 5.99597630e+04,\n",
       "        5.80694302e+04, 4.26011180e+04, 3.76468560e+04, 2.34279129e+02,\n",
       "        0.00000000e+00, 0.00000000e+00, 0.00000000e+00]),\n",
       " ('ttbar',): array([9.29251727e+05, 9.29251727e+05, 9.29251727e+05, 2.28968413e+05,\n",
       "        2.28968413e+05, 2.05831659e+05, 7.11364433e+04, 3.80617410e+04,\n",
       "        2.93529957e+04, 2.01774963e+04, 1.96273736e+04, 1.28724613e+01,\n",
       "        0.00000000e+00, 0.00000000e+00, 0.00000000e+00]),\n",
       " ('singlet',): array([1.26611064e+05, 1.26611064e+05, 1.26611064e+05, 2.56930903e+04,\n",
       "        2.56930903e+04, 2.34869548e+04, 1.08401026e+04, 5.57132429e+03,\n",
       "        4.33213729e+03, 3.34638769e+03, 3.09400865e+03, 2.91798791e+00,\n",
       "        0.00000000e+00, 0.00000000e+00, 0.00000000e+00]),\n",
       " ('data',): array([2.10881761e+08, 7.72115550e+07, 7.47537880e+07, 2.07504230e+07,\n",
       "        2.07504230e+07, 1.93360450e+07, 5.20697200e+06, 4.70277500e+06,\n",
       "        4.54883600e+06, 4.37860200e+06, 3.69625100e+06, 7.30000000e+02,\n",
       "        0.00000000e+00, 0.00000000e+00, 0.00000000e+00]),\n",
       " ('muondata',): array([2.9164308e+07, 2.0483120e+06, 1.9910530e+06, 5.2290100e+05,\n",
       "        5.2290100e+05, 4.7709700e+05, 1.4624800e+05, 1.0960800e+05,\n",
       "        9.4965000e+04, 7.8841000e+04, 6.9366000e+04, 6.6000000e+01,\n",
       "        0.0000000e+00, 0.0000000e+00, 0.0000000e+00])}"
      ]
     },
     "execution_count": 8,
     "metadata": {},
     "output_type": "execute_result"
    }
   ],
   "source": [
    "cutflow.values()"
   ]
  },
  {
   "cell_type": "code",
   "execution_count": 9,
   "metadata": {},
   "outputs": [],
   "source": [
    "df1 = pd.DataFrame([])\n",
    "\n",
    "df1['ggF'] = cutflow.values()[('ggF',)]\n",
    "df1['VBF'] = cutflow.values()[('VBF',)]\n",
    "df1['WH'] = cutflow.values()[('WH',)]\n",
    "df1['ZH'] = cutflow.values()[('ZH',)]\n",
    "df1['ttH'] = cutflow.values()[('ttH',)]\n",
    "\n",
    "df1 = df1[3:-3].astype('int')\n",
    "df1.index = ['Jet kinematics','Jet ID','Jet acceptance','Jet $N_2^\\text{DDT}$','Opp. hem. b veto','MET $<$ 140 GeV','No leptons','2 AK4 jets','DeepDoubleB']\n",
    "\n",
    "df1.to_latex(buf=year+'/cutflow-sig.tex')"
   ]
  },
  {
   "cell_type": "code",
   "execution_count": 10,
   "metadata": {},
   "outputs": [],
   "source": [
    "df2 = pd.DataFrame([])\n",
    "\n",
    "df2['QCD'] = cutflow.values()[('QCD',)]\n",
    "df2['Wjets'] = cutflow.values()[('Wjets',)]\n",
    "df2['Zjets'] = cutflow.values()[('Zjets',)]\n",
    "df2['VV'] = cutflow.values()[('VV',)]\n",
    "df2['ttbar'] = cutflow.values()[('ttbar',)]\n",
    "df2['singlet'] = cutflow.values()[('singlet',)]\n",
    "\n",
    "df2 = df2[3:-3].astype('int')\n",
    "df2.index = ['Jet kinematics','Jet ID','Jet acceptance','Jet $N_2^\\text{DDT}$','Opp. hem. b veto','MET $<$ 140 GeV','No leptons','2 AK4 jets','DeepDoubleB']\n",
    "\n",
    "df2.to_latex(buf=year+'/cutflow-bkg.tex')"
   ]
  },
  {
   "cell_type": "code",
   "execution_count": null,
   "metadata": {},
   "outputs": [],
   "source": []
  }
 ],
 "metadata": {
  "kernelspec": {
   "display_name": "Python 3",
   "language": "python",
   "name": "python3"
  },
  "language_info": {
   "codemirror_mode": {
    "name": "ipython",
    "version": 3
   },
   "file_extension": ".py",
   "mimetype": "text/x-python",
   "name": "python",
   "nbconvert_exporter": "python",
   "pygments_lexer": "ipython3",
   "version": "3.8.8"
  }
 },
 "nbformat": 4,
 "nbformat_minor": 2
}

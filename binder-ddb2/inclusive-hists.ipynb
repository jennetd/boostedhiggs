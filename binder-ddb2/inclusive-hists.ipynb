{
 "cells": [
  {
   "cell_type": "code",
   "execution_count": 28,
   "metadata": {},
   "outputs": [],
   "source": [
    "import os, subprocess\n",
    "import json\n",
    "import uproot3\n",
    "import awkward as ak\n",
    "import numpy as np\n",
    "from coffea import processor, util, hist\n",
    "import pickle\n",
    "\n",
    "from plotter import *"
   ]
  },
  {
   "cell_type": "code",
   "execution_count": 29,
   "metadata": {},
   "outputs": [],
   "source": [
    "lumis = {}\n",
    "lumis['2016'] = 35.9\n",
    "lumis['2017'] = 41.5\n",
    "lumis['2018'] = 59.9\n",
    "\n",
    "with open('xsec.json') as f:\n",
    "  xs = json.load(f)\n",
    "\n",
    "with open('pmap.json') as f:\n",
    "  pmap = json.load(f)\n",
    "\n",
    "systematics = ['nominal',\n",
    "               'jet_triggerUp','jet_triggerDown',\n",
    "               'btagWeightUp','btagWeightDown','btagEffStatUp','btagEffStatDown',\n",
    "               'UESUp','UESDown','JESUp','JESDown','JERUp','JERDown',\n",
    "               'pileup_weightUp','pileup_weightDown'\n",
    "              ]"
   ]
  },
  {
   "cell_type": "code",
   "execution_count": 30,
   "metadata": {},
   "outputs": [],
   "source": [
    "year = '2017'\n",
    "nfiles = len(subprocess.getoutput(\"ls infiles-split/\"+year+\"*.json\").split())\n",
    "outsum = processor.dict_accumulator()"
   ]
  },
  {
   "cell_type": "code",
   "execution_count": 31,
   "metadata": {},
   "outputs": [],
   "source": [
    "repickle=True\n",
    "\n",
    "# Check if pickle exists, and don't re-create it if it does\n",
    "picklename = 'pickles/'+str(year)+'_templates.pkl'\n",
    "if os.path.isfile(picklename):\n",
    "    repickle=False"
   ]
  },
  {
   "cell_type": "code",
   "execution_count": 32,
   "metadata": {},
   "outputs": [],
   "source": [
    "# Load all files - this takes a while\n",
    "if repickle:\n",
    "    nfiles = len(subprocess.getoutput(\"ls infiles-split/\"+year+\"*.json\").split())\n",
    "    for n in range(1,nfiles+1):\n",
    "        \n",
    "        with open('infiles-split/'+year+'_'+str(n)+'.json') as f:\n",
    "            infiles = json.load(f)\n",
    "    \n",
    "        filename = '/myeosdir/inclusive/outfiles-ddb2/'+year+'_'+str(n)+'.coffea'\n",
    "        if os.path.isfile(filename):\n",
    "            out = util.load(filename)\n",
    "            outsum.add(out)\n",
    "        else:\n",
    "            print('Missing file '+str(n),infiles.keys())\n",
    "            #print(\"File \" + filename + \" is missing\")\n",
    "        \n",
    "    scale_lumi = {k: xs[k] * 1000 *lumis[year] / w for k, w in outsum['sumw'].items()}\n",
    "    outsum['templates'].scale(scale_lumi, 'dataset')\n",
    "    cutflow = outsum['templates'].group('dataset', hist.Cat('process', 'Process'), pmap)\n",
    "\n",
    "    outfile = open(picklename, 'wb')\n",
    "    pickle.dump(cutflow, outfile, protocol=-1)\n",
    "    outfile.close()"
   ]
  },
  {
   "cell_type": "code",
   "execution_count": 33,
   "metadata": {},
   "outputs": [
    {
     "data": {
      "text/plain": [
       "{('ZH',): array(14.30514986),\n",
       " ('WH',): array(11.41398191),\n",
       " ('ttH',): array(21.69370991),\n",
       " ('VBF',): array(32.77469028),\n",
       " ('ggF',): array(75.87214395),\n",
       " ('ggF-powheg',): array(154.90639948),\n",
       " ('QCD',): array(3957583.04449311),\n",
       " ('VV',): array(1273.79007608),\n",
       " ('Wjets',): array(87128.44732618),\n",
       " ('Zjets',): array(37630.24621685),\n",
       " ('ttbar',): array(19505.04420727),\n",
       " ('singlet',): array(3076.31689848),\n",
       " ('data',): array(3696202.),\n",
       " ('muondata',): array(69363.)}"
      ]
     },
     "execution_count": 33,
     "metadata": {},
     "output_type": "execute_result"
    }
   ],
   "source": [
    "templates = pickle.load(open(picklename,'rb'))\n",
    "templates.sum('pt1','msd1','ddb1').integrate('region','signal').integrate('systematic', 'nominal').values()"
   ]
  },
  {
   "cell_type": "code",
   "execution_count": 34,
   "metadata": {},
   "outputs": [
    {
     "name": "stdout",
     "output_type": "stream",
     "text": [
      "ZH\n",
      "WH\n",
      "ttH\n",
      "VBF\n",
      "ggF\n",
      "ggF-powheg\n",
      "QCD\n",
      "VV\n",
      "Wjets\n",
      "Zjets\n",
      "ttbar\n",
      "singlet\n",
      "data\n",
      "muondata\n",
      "ZH\n",
      "WH\n",
      "ttH\n",
      "VBF\n",
      "ggF\n",
      "ggF-powheg\n",
      "QCD\n",
      "VV\n",
      "Wjets\n",
      "Zjets\n",
      "ttbar\n",
      "singlet\n",
      "data\n",
      "muondata\n",
      "ZH\n",
      "WH\n",
      "ttH\n",
      "VBF\n",
      "ggF\n",
      "ggF-powheg\n",
      "QCD\n",
      "VV\n",
      "Wjets\n",
      "Zjets\n",
      "ttbar\n",
      "singlet\n",
      "data\n",
      "muondata\n",
      "ZH\n",
      "WH\n",
      "ttH\n",
      "VBF\n",
      "ggF\n",
      "ggF-powheg\n",
      "QCD\n",
      "VV\n",
      "Wjets\n",
      "Zjets\n",
      "ttbar\n",
      "singlet\n",
      "data\n",
      "muondata\n",
      "ZH\n",
      "WH\n",
      "ttH\n",
      "VBF\n",
      "ggF\n",
      "ggF-powheg\n",
      "QCD\n",
      "VV\n",
      "Wjets\n",
      "Zjets\n",
      "ttbar\n",
      "singlet\n",
      "data\n",
      "muondata\n",
      "ZH\n",
      "WH\n",
      "ttH\n",
      "VBF\n",
      "ggF\n",
      "ggF-powheg\n",
      "QCD\n",
      "VV\n",
      "Wjets\n",
      "Zjets\n",
      "ttbar\n",
      "singlet\n",
      "data\n",
      "muondata\n"
     ]
    }
   ],
   "source": [
    "ptbins = [450, 500, 550, 600, 675, 800, 1200]\n",
    "os.system('rm '+year+'/signalregion.root')\n",
    "fout = uproot3.create(year+'/signalregion.root')\n",
    "for i,b in enumerate(ptbins[:-1]):\n",
    "    for p in pmap.keys():  \n",
    "        print(p)\n",
    "        if \"data\" in p:\n",
    "            s = \"nominal\"\n",
    "            h = templates.integrate('region', 'signal').integrate('systematic',s).integrate('pt1',int_range=slice(ptbins[i],ptbins[i+1])).integrate('ddb1',int_range=slice(0.89,1)).integrate('process',p)\n",
    "            fout[\"pass_pt\"+str(i+1)+\"_\"+p+\"_\"+s] = hist.export1d(h)\n",
    "            h = templates.integrate('region', 'signal').integrate('systematic',s).integrate('pt1',int_range=slice(ptbins[i],ptbins[i+1])).integrate('ddb1',int_range=slice(0,0.89)).integrate('process',p)\n",
    "            fout[\"fail_pt\"+str(i+1)+\"_\"+p+\"_\"+s] = hist.export1d(h)\n",
    "        else:\n",
    "            for s in systematics:\n",
    "                h = templates.integrate('region', 'signal').integrate('systematic',s).integrate('pt1',int_range=slice(ptbins[i],ptbins[i+1])).integrate('ddb1',int_range=slice(0.89,1)).integrate('process',p)\n",
    "                fout[\"pass_pt\"+str(i+1)+\"_\"+p+\"_\"+s] = hist.export1d(h)\n",
    "                h = templates.integrate('region', 'signal').integrate('systematic',s).integrate('pt1',int_range=slice(ptbins[i],ptbins[i+1])).integrate('ddb1',int_range=slice(0,0.89)).integrate('process',p)\n",
    "                fout[\"fail_pt\"+str(i+1)+\"_\"+p+\"_\"+s] = hist.export1d(h)\n",
    "\n",
    "fout.close()"
   ]
  },
  {
   "cell_type": "code",
   "execution_count": 35,
   "metadata": {},
   "outputs": [
    {
     "name": "stdout",
     "output_type": "stream",
     "text": [
      "ZH\n",
      "WH\n",
      "ttH\n",
      "VBF\n",
      "ggF\n",
      "ggF-powheg\n",
      "QCD\n",
      "VV\n",
      "Wjets\n",
      "Zjets\n",
      "ttbar\n",
      "singlet\n",
      "data\n",
      "muondata\n"
     ]
    }
   ],
   "source": [
    "os.system('rm '+year+'/muonCR.root')\n",
    "fout = uproot3.create(year+'/muonCR.root')\n",
    "for p in pmap.keys():  \n",
    "    print(p)\n",
    "    if \"data\" in p:\n",
    "        s = \"nominal\"\n",
    "        h = templates.integrate('region', 'muoncontrol').integrate('systematic',s).sum('pt1').integrate('ddb1',int_range=slice(0.89,1)).integrate('process',p)\n",
    "        fout[\"pass_\"+p+\"_\"+s] = hist.export1d(h)\n",
    "        h = templates.integrate('region', 'muoncontrol').integrate('systematic',s).sum('pt1').integrate('ddb1',int_range=slice(0,0.89)).integrate('process',p)\n",
    "        fout[\"fail_\"+p+\"_\"+s] = hist.export1d(h)\n",
    "    else:\n",
    "        for s in systematics:\n",
    "            h = templates.integrate('region', 'muoncontrol').integrate('systematic',s).sum('pt1').integrate('ddb1',int_range=slice(0.89,1)).integrate('process',p)\n",
    "            fout[\"pass_\"+p+\"_\"+s] = hist.export1d(h)\n",
    "            h = templates.integrate('region', 'muoncontrol').integrate('systematic',s).sum('pt1').integrate('ddb1',int_range=slice(0,0.89)).integrate('process',p)\n",
    "            fout[\"fail_\"+p+\"_\"+s] = hist.export1d(h)"
   ]
  },
  {
   "cell_type": "code",
   "execution_count": null,
   "metadata": {},
   "outputs": [],
   "source": []
  }
 ],
 "metadata": {
  "kernelspec": {
   "display_name": "Python 3",
   "language": "python",
   "name": "python3"
  },
  "language_info": {
   "codemirror_mode": {
    "name": "ipython",
    "version": 3
   },
   "file_extension": ".py",
   "mimetype": "text/x-python",
   "name": "python",
   "nbconvert_exporter": "python",
   "pygments_lexer": "ipython3",
   "version": "3.8.8"
  }
 },
 "nbformat": 4,
 "nbformat_minor": 2
}

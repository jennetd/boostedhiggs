{
 "cells": [
  {
   "cell_type": "code",
   "execution_count": 1,
   "metadata": {},
   "outputs": [],
   "source": [
    "import os, subprocess\n",
    "import json\n",
    "import uproot3\n",
    "import awkward as ak\n",
    "import numpy as np\n",
    "from coffea import processor, util, hist\n",
    "import pickle\n",
    "\n",
    "from plotter import *\n",
    "\n",
    "import warnings\n",
    "warnings.filterwarnings('ignore')"
   ]
  },
  {
   "cell_type": "code",
   "execution_count": 2,
   "metadata": {},
   "outputs": [],
   "source": [
    "lumis = {}\n",
    "lumis['2016'] = 35.9\n",
    "lumis['2017'] = 41.5\n",
    "lumis['2018'] = 59.9\n",
    "\n",
    "with open('xsec.json') as f:\n",
    "  xs = json.load(f)\n",
    "\n",
    "with open('pmap.json') as f:\n",
    "  pmap = json.load(f)\n",
    "\n",
    "systematics = [\n",
    "    'PS_weightUp','PS_weightDown',\n",
    "    'PDF_weightUp','PDF_weightDown',\n",
    "    'scalevar_7ptUp','scalevar_7ptDown','scalevar_3ptUp','scalevar_3ptDown'\n",
    "    ]\n",
    "\n",
    "systematics_Wjets = [\n",
    "    'W_d2kappa_EWDown','W_d2kappa_EWUp','W_d3kappa_EWDown','W_d3kappa_EWUp',\n",
    "    'd1K_NLODown','d1K_NLOUp','d1kappa_EWDown','d1kappa_EWUp',\n",
    "    'd2K_NLODown','d2K_NLOUp','d3K_NLODown','d3K_NLOUp',\n",
    "    ]\n",
    "\n",
    "systematics_Zjets = [\n",
    "    'Z_d2kappa_EWDown','Z_d2kappa_EWUp','Z_d3kappa_EWDown','Z_d3kappa_EWUp',\n",
    "    'd1K_NLODown','d1K_NLOUp','d1kappa_EWDown','d1kappa_EWUp',\n",
    "    'd2K_NLODown','d2K_NLOUp','d3K_NLODown','d3K_NLOUp',\n",
    "    ]"
   ]
  },
  {
   "cell_type": "code",
   "execution_count": 3,
   "metadata": {},
   "outputs": [],
   "source": [
    "deta_cut = 3.5\n",
    "mjj_cut = 1000"
   ]
  },
  {
   "cell_type": "code",
   "execution_count": 4,
   "metadata": {},
   "outputs": [],
   "source": [
    "year = '2017'\n",
    "nfiles = len(subprocess.getoutput(\"ls infiles-split/\"+year+\"*.json\").split())\n",
    "outsum = processor.dict_accumulator()"
   ]
  },
  {
   "cell_type": "code",
   "execution_count": 5,
   "metadata": {},
   "outputs": [],
   "source": [
    "repickle=True\n",
    "\n",
    "# Check if pickle exists, and don't re-create it if it does\n",
    "picklename = 'pickles/'+str(year)+'_templates_th.pkl'\n",
    "if os.path.isfile(picklename):\n",
    "    repickle=False"
   ]
  },
  {
   "cell_type": "code",
   "execution_count": null,
   "metadata": {},
   "outputs": [],
   "source": [
    "# Load all files - this takes a while\n",
    "if repickle:\n",
    "    nfiles = len(subprocess.getoutput(\"ls infiles-split/\"+year+\"*.json\").split())\n",
    "    for n in range(1,nfiles+1):\n",
    "\n",
    "        with open('infiles-split/'+year+'_'+str(n)+'.json') as f:\n",
    "            infiles = json.load(f)\n",
    "    \n",
    "        filename = '/myeosdir/vbf-theory/outfiles-ddb2/'+year+'_'+str(n)+'.coffea'\n",
    "        if os.path.isfile(filename):\n",
    "            out = util.load(filename)\n",
    "            outsum.add(out)\n",
    "        else:\n",
    "            print('Missing file '+str(n),infiles.keys())\n",
    "            #print(\"File \" + filename + \" is missing\")\n",
    "        \n",
    "    scale_lumi = {k: xs[k] * 1000 *lumis[year] / w for k, w in outsum['sumw'].items()}\n",
    "    outsum['templates-vbf'].scale(scale_lumi, 'dataset')\n",
    "    templates = outsum['templates-vbf'].group('dataset', hist.Cat('process', 'Process'), pmap)\n",
    "\n",
    "    outfile = open(picklename, 'wb')\n",
    "    pickle.dump(templates, outfile, protocol=-1)\n",
    "    outfile.close()"
   ]
  },
  {
   "cell_type": "code",
   "execution_count": null,
   "metadata": {},
   "outputs": [],
   "source": [
    "# Read the histogram from the pickle file\n",
    "templates = pickle.load(open(picklename,'rb'))\n",
    "templates_vbf = templates.integrate('region','signal').integrate('deta',int_range=slice(deta_cut,7)).integrate('mjj',int_range=slice(mjj_cut,4000))"
   ]
  },
  {
   "cell_type": "code",
   "execution_count": null,
   "metadata": {},
   "outputs": [],
   "source": [
    "templates_vbf.identifiers('systematic')"
   ]
  },
  {
   "cell_type": "code",
   "execution_count": null,
   "metadata": {},
   "outputs": [],
   "source": [
    "os.system('rm '+year+'/1-signalregion-th.root')\n",
    "fout = uproot3.create(year+'/1-signalregion-th.root')\n",
    "for p in pmap.keys():  \n",
    "    print(p)\n",
    "    if \"data\" not in p:\n",
    "        for s in systematics:\n",
    "            h = templates_vbf.sum('pt1').integrate('systematic',s).integrate('ddb1',int_range=slice(0.89,1)).integrate('process',p)\n",
    "            fout[\"pass_\"+p+\"_\"+s] = hist.export1d(h)\n",
    "            h = templates_vbf.sum('pt1').integrate('systematic',s).integrate('ddb1',int_range=slice(0,0.89)).integrate('process',p)\n",
    "            fout[\"fail_\"+p+\"_\"+s] = hist.export1d(h)\n",
    "            \n",
    "p = 'Wjets'\n",
    "for s in systematics_Wjets:\n",
    "    h = templates_vbf.sum('pt1').integrate('systematic',s).integrate('ddb1',int_range=slice(0.89,1)).integrate('process',p)\n",
    "    fout[\"pass_\"+p+\"_\"+s] = hist.export1d(h)\n",
    "    h = templates_vbf.sum('pt1').integrate('systematic',s).integrate('ddb1',int_range=slice(0,0.89)).integrate('process',p)\n",
    "    fout[\"fail_\"+p+\"_\"+s] = hist.export1d(h)          \n",
    "    \n",
    "p = 'Zjets'\n",
    "for s in systematics_Zjets:\n",
    "    h = templates_vbf.sum('pt1').integrate('systematic',s).integrate('ddb1',int_range=slice(0.89,1)).integrate('process',p)\n",
    "    fout[\"pass_\"+p+\"_\"+s] = hist.export1d(h)\n",
    "    h = templates_vbf.sum('pt1').integrate('systematic',s).integrate('ddb1',int_range=slice(0,0.89)).integrate('process',p)\n",
    "    fout[\"fail_\"+p+\"_\"+s] = hist.export1d(h)\n",
    "\n",
    "fout.close()"
   ]
  },
  {
   "cell_type": "code",
   "execution_count": null,
   "metadata": {},
   "outputs": [],
   "source": [
    "ptbins = [450, 550, 1200]\n",
    "os.system('rm '+year+'/2pt-signalregion-th.root')\n",
    "fout = uproot3.create(year+'/2pt-signalregion-th.root')\n",
    "\n",
    "for i,b in enumerate(ptbins[:-1]):\n",
    "    for p in pmap.keys(): \n",
    "        print(p)\n",
    "        if \"data\" in p:\n",
    "            s = \"nominal\"\n",
    "            h = templates_vbf.integrate('systematic',s).integrate('pt1',int_range=slice(ptbins[i],ptbins[i+1])).integrate('ddb1',int_range=slice(0.89,1)).integrate('process',p)\n",
    "            fout[\"pass_pt\"+str(i+1)+\"_\"+p+\"_\"+s] = hist.export1d(h)\n",
    "            h = templates_vbf.integrate('systematic',s).integrate('pt1',int_range=slice(ptbins[i],ptbins[i+1])).integrate('ddb1',int_range=slice(0,0.89)).integrate('process',p)\n",
    "            fout[\"fail_pt\"+str(i+1)+\"_\"+p+\"_\"+s] = hist.export1d(h)\n",
    "        else:\n",
    "            for s in systematics:\n",
    "                h = templates_vbf.integrate('systematic',s).integrate('pt1',int_range=slice(ptbins[i],ptbins[i+1])).integrate('ddb1',int_range=slice(0.89,1)).integrate('process',p)\n",
    "                fout[\"pass_pt\"+str(i+1)+\"_\"+p+\"_\"+s] = hist.export1d(h)\n",
    "                h = templates_vbf.integrate('systematic',s).integrate('pt1',int_range=slice(ptbins[i],ptbins[i+1])).integrate('ddb1',int_range=slice(0,0.89)).integrate('process',p)\n",
    "                fout[\"fail_pt\"+str(i+1)+\"_\"+p+\"_\"+s] = hist.export1d(h)\n",
    "                \n",
    "                \n",
    "    p = 'Wjets'\n",
    "    for s in systematics_Wjets:\n",
    "        h = templates_vbf.integrate('systematic',s).integrate('pt1',int_range=slice(ptbins[i],ptbins[i+1])).integrate('ddb1',int_range=slice(0.89,1)).integrate('process',p)\n",
    "        fout[\"pass_pt\"+str(i+1)+\"_\"+p+\"_\"+s] = hist.export1d(h)\n",
    "        h = templates_vbf.integrate('systematic',s).integrate('pt1',int_range=slice(ptbins[i],ptbins[i+1])).integrate('ddb1',int_range=slice(0,0.89)).integrate('process',p)\n",
    "        fout[\"fail_pt\"+str(i+1)+\"_\"+p+\"_\"+s] = hist.export1d(h)            \n",
    "    \n",
    "    p = 'Zjets'\n",
    "    for s in systematics_Zjets:\n",
    "        h = templates_vbf.integrate('systematic',s).integrate('pt1',int_range=slice(ptbins[i],ptbins[i+1])).integrate('ddb1',int_range=slice(0.89,1)).integrate('process',p)\n",
    "        fout[\"pass_pt\"+str(i+1)+\"_\"+p+\"_\"+s] = hist.export1d(h)\n",
    "        h = templates_vbf.integrate('systematic',s).integrate('pt1',int_range=slice(ptbins[i],ptbins[i+1])).integrate('ddb1',int_range=slice(0,0.89)).integrate('process',p)\n",
    "        fout[\"fail_pt\"+str(i+1)+\"_\"+p+\"_\"+s] = hist.export1d(h) \n",
    "    \n",
    "\n",
    "fout.close()"
   ]
  },
  {
   "cell_type": "code",
   "execution_count": null,
   "metadata": {},
   "outputs": [],
   "source": [
    "mc = ['QCD','Wjets','Zjets','ttbar','singlet','VV','ggF','VBF','WH','ZH','ttH']"
   ]
  },
  {
   "cell_type": "code",
   "execution_count": null,
   "metadata": {},
   "outputs": [],
   "source": [
    "h = templates.sum('pt1','ddb1').integrate('region','signal').integrate('deta',int_range=slice(3.5,7)).integrate('mjj',int_range=slice(1000,4000))\n",
    "g = templates.sum('pt1').integrate('region','signal').integrate('deta',int_range=slice(3.5,7)).integrate('mjj',int_range=slice(1000,4000)).integrate('ddb1',int_range=slice(0.89,1))"
   ]
  },
  {
   "cell_type": "code",
   "execution_count": null,
   "metadata": {},
   "outputs": [],
   "source": [
    "for p in mc:\n",
    "    plot_syst(h.integrate('process',p),'PS_weight',year + ' ' + p + ' PS', year+'/syst_PS_weight/'+p)\n",
    "    plot_syst(g.integrate('process',p),'PS_weight',year + ' ' + p + ' PS DDB pass', year+'/syst_PS_weight/'+p+\"_pass_weight\")"
   ]
  },
  {
   "cell_type": "code",
   "execution_count": null,
   "metadata": {},
   "outputs": [],
   "source": [
    "for p in mc:\n",
    "    plot_syst(h.integrate('process',p),'PDF_weight',year+' '+p + ' PDF',year+'/syst_PDF_weight/'+p)\n",
    "    plot_syst(g.integrate('process',p),'PDF_weight',year + ' ' + p + ' PDF DDB pass', year+'/syst_PDF_weight/'+p+\"_pass\")"
   ]
  },
  {
   "cell_type": "code",
   "execution_count": null,
   "metadata": {},
   "outputs": [],
   "source": [
    "for p in mc:\n",
    "    plot_syst(h.integrate('process',p),'scalevar_7pt',year+' '+p + ' scale var 7pt',year+'/syst_scalevar_7pt/'+p)\n",
    "    plot_syst(g.integrate('process',p),'scalevar_7pt',year + ' ' + p + ' scale var 7pt DDB pass', year+'/syst_scalevar_7pt/'+p+\"_pass\")"
   ]
  },
  {
   "cell_type": "code",
   "execution_count": null,
   "metadata": {},
   "outputs": [],
   "source": [
    "for p in mc:\n",
    "    plot_syst(h.integrate('process',p),'scalevar_3pt',year+' '+p + ' scale var 3pt',year+'/syst_scalevar_3pt/'+p)\n",
    "    plot_syst(g.integrate('process',p),'scalevar_3pt',year + ' ' + p + ' scale var 3pt DDB pass', year+'/syst_scalevar_3pt/'+p+\"_pass\")"
   ]
  },
  {
   "cell_type": "code",
   "execution_count": null,
   "metadata": {},
   "outputs": [],
   "source": [
    "for p in ['Wjets','Zjets']:\n",
    "    plot_syst(h.integrate('process',p),'d1K_NLO',year+' '+p + ' d1K_NLO',year+'/syst_d1K_NLO/'+p)\n",
    "    plot_syst(g.integrate('process',p),'d1K_NLO',year + ' ' + p + ' d1K_NLO DDB pass', year+'/syst_d1K_NLO/'+p+\"_pass\")"
   ]
  },
  {
   "cell_type": "code",
   "execution_count": null,
   "metadata": {},
   "outputs": [],
   "source": [
    "for p in ['Wjets','Zjets']:\n",
    "    plot_syst(h.integrate('process',p),'d1kappa_EW',year+' '+p + ' d1kappa_EW',year+'/syst_d1kappa_EW/'+p)\n",
    "    plot_syst(g.integrate('process',p),'d1kappa_EW',year + ' ' + p + ' d1kappa_EW DDB pass', year+'/syst_d1kappa_EW/'+p+\"_pass\")"
   ]
  },
  {
   "cell_type": "code",
   "execution_count": null,
   "metadata": {},
   "outputs": [],
   "source": [
    "for p in ['Wjets','Zjets']:\n",
    "    plot_syst(h.integrate('process',p),'d2K_NLO',year+' '+p + ' d2K_NLO',year+'/syst_d2K_NLO/'+p)\n",
    "    plot_syst(g.integrate('process',p),'d2K_NLO',year + ' ' + p + ' d2K_NLO DDB pass', year+'/syst_d2K_NLO/'+p+\"_pass\")"
   ]
  },
  {
   "cell_type": "code",
   "execution_count": null,
   "metadata": {},
   "outputs": [],
   "source": [
    "for p in ['Wjets','Zjets']:\n",
    "    plot_syst(h.integrate('process',p),'d3K_NLO',year+' '+p + ' d3K_NLO',year+'/syst_d3K_NLO/'+p)\n",
    "    plot_syst(g.integrate('process',p),'d3K_NLO',year + ' ' + p + ' d3K_NLO DDB pass', year+'/syst_d3K_NLO/'+p+\"_pass\")"
   ]
  },
  {
   "cell_type": "code",
   "execution_count": null,
   "metadata": {},
   "outputs": [],
   "source": [
    "for p in ['Wjets']:\n",
    "    plot_syst(h.integrate('process',p),'W_d2kappa_EW',year+' '+p + ' W_d2kappa_EW',year+'/syst_W_d2kappa_EW/'+p)\n",
    "    plot_syst(g.integrate('process',p),'W_d2kappa_EW',year + ' ' + p + ' W_d2kappa_EW DDB pass', year+'/syst_W_d2kappa_EW/'+p+\"_pass\")"
   ]
  },
  {
   "cell_type": "code",
   "execution_count": null,
   "metadata": {},
   "outputs": [],
   "source": [
    "for p in ['Wjets']:\n",
    "    plot_syst(h.integrate('process',p),'W_d3kappa_EW',year+' '+p + ' W_d3kappa_EW',year+'/syst_W_d3kappa_EW/'+p)\n",
    "    plot_syst(g.integrate('process',p),'W_d3kappa_EW',year + ' ' + p + ' W_d3kappa_EW DDB pass', year+'/syst_W_d3kappa_EW/'+p+\"_pass\") "
   ]
  },
  {
   "cell_type": "code",
   "execution_count": null,
   "metadata": {},
   "outputs": [],
   "source": [
    "for p in ['Zjets']:\n",
    "    plot_syst(h.integrate('process',p),'Z_d2kappa_EW',year+' '+p + ' Z_d2kappa_EW',year+'/syst_Z_d2kappa_EW/'+p)\n",
    "    plot_syst(g.integrate('process',p),'Z_d2kappa_EW',year + ' ' + p + ' Z_d2kappa_EW DDB pass', year+'/syst_Z_d2kappa_EW/'+p+\"_pass\")"
   ]
  },
  {
   "cell_type": "code",
   "execution_count": null,
   "metadata": {},
   "outputs": [],
   "source": [
    "for p in ['Zjets']:\n",
    "    plot_syst(h.integrate('process',p),'Z_d3kappa_EW',year+' '+p + ' Z_d3kappa_EW',year+'/syst_Z_d3kappa_EW/'+p)\n",
    "    plot_syst(g.integrate('process',p),'Z_d3kappa_EW',year + ' ' + p + ' Z_d3kappa_EW DDB pass', year+'/syst_Z_d3kappa_EW/'+p+\"_pass\") "
   ]
  },
  {
   "cell_type": "code",
   "execution_count": null,
   "metadata": {},
   "outputs": [],
   "source": []
  }
 ],
 "metadata": {
  "kernelspec": {
   "display_name": "Python 3",
   "language": "python",
   "name": "python3"
  },
  "language_info": {
   "codemirror_mode": {
    "name": "ipython",
    "version": 3
   },
   "file_extension": ".py",
   "mimetype": "text/x-python",
   "name": "python",
   "nbconvert_exporter": "python",
   "pygments_lexer": "ipython3",
   "version": "3.8.8"
  }
 },
 "nbformat": 4,
 "nbformat_minor": 2
}
